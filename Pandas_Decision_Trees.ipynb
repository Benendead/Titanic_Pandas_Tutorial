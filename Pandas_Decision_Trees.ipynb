{
  "nbformat": 4,
  "nbformat_minor": 0,
  "metadata": {
    "colab": {
      "name": "Pandas_Decision_Trees",
      "version": "0.3.2",
      "provenance": [],
      "collapsed_sections": [
        "EKLI4buZuPVY",
        "YzMWvrPtuUsA",
        "wioDjWTPuLLH",
        "KFWcaWIlvpNQ",
        "R2mVChsx60MV"
      ]
    },
    "kernelspec": {
      "name": "python3",
      "display_name": "Python 3"
    },
    "accelerator": "GPU"
  },
  "cells": [
    {
      "metadata": {
        "id": "YT0IkrlxFCz1",
        "colab_type": "text"
      },
      "cell_type": "markdown",
      "source": [
        "# Processing Data for Decision Trees in Pandas\n",
        "By Benned Hedegaard\n",
        "\n",
        "We'll use Kaggle's Titanic dataset to learn how to analyze, reformat, categorize, and slice data in Pandas DataFrames. We'll also delve a bit into the intuitions behind decision trees and some imformation theory. Note: We will NOT get to implementing decision trees themselves. Most of the tools to do this, though, are explained/implemented in this Notebook.\n",
        "\n",
        "[![Open In Colab](https://colab.research.google.com/assets/colab-badge.svg)](https://colab.research.google.com/drive/12z93hzXqv5MPtUNb_BjD-GF0vfr5iwOI)"
      ]
    },
    {
      "metadata": {
        "id": "EKLI4buZuPVY",
        "colab_type": "text"
      },
      "cell_type": "markdown",
      "source": [
        "## Importing Data"
      ]
    },
    {
      "metadata": {
        "id": "qKhMSJHKoFST",
        "colab_type": "code",
        "colab": {}
      },
      "cell_type": "code",
      "source": [
        "import pandas as pd\n",
        "import numpy as np\n",
        "import matplotlib.pyplot as plt"
      ],
      "execution_count": 0,
      "outputs": []
    },
    {
      "metadata": {
        "id": "2ekvhE-RoKYR",
        "colab_type": "code",
        "colab": {
          "base_uri": "https://localhost:8080/",
          "height": 119
        },
        "outputId": "09c2631a-374a-4fe5-e181-5610986ece68"
      },
      "cell_type": "code",
      "source": [
        "# Import the data from my GitHub\n",
        "!pip install -q xlrd\n",
        "!git clone https://github.com/Benendead/Titanic_Pandas_Tutorial"
      ],
      "execution_count": 2,
      "outputs": [
        {
          "output_type": "stream",
          "text": [
            "Cloning into 'Titanic_Pandas_Tutorial'...\n",
            "remote: Enumerating objects: 8, done.\u001b[K\n",
            "remote: Counting objects: 100% (8/8), done.\u001b[K\n",
            "remote: Compressing objects: 100% (7/7), done.\u001b[K\n",
            "remote: Total 8 (delta 0), reused 0 (delta 0), pack-reused 0\u001b[K\n",
            "Unpacking objects: 100% (8/8), done.\n"
          ],
          "name": "stdout"
        }
      ]
    },
    {
      "metadata": {
        "id": "pJ_uBadJoiEe",
        "colab_type": "code",
        "colab": {
          "base_uri": "https://localhost:8080/",
          "height": 34
        },
        "outputId": "a0914124-6cc3-4e2b-a210-e3e8aaf094c6"
      },
      "cell_type": "code",
      "source": [
        "# Look at where our data is.\n",
        "!ls Titanic_Pandas_Tutorial/Data"
      ],
      "execution_count": 3,
      "outputs": [
        {
          "output_type": "stream",
          "text": [
            "test.csv  train.csv\n"
          ],
          "name": "stdout"
        }
      ]
    },
    {
      "metadata": {
        "id": "AnVxmBrFo1Vg",
        "colab_type": "code",
        "colab": {
          "base_uri": "https://localhost:8080/",
          "height": 176
        },
        "outputId": "3283c09a-90de-4d2d-b9cf-afbba7ebc2b5"
      },
      "cell_type": "code",
      "source": [
        "# Read in our dataset and give a preview of its contents.\n",
        "tr = pd.read_csv(\"Titanic_Pandas_Tutorial/Data/train.csv\")\n",
        "tr.head(3)"
      ],
      "execution_count": 4,
      "outputs": [
        {
          "output_type": "execute_result",
          "data": {
            "text/html": [
              "<div>\n",
              "<style scoped>\n",
              "    .dataframe tbody tr th:only-of-type {\n",
              "        vertical-align: middle;\n",
              "    }\n",
              "\n",
              "    .dataframe tbody tr th {\n",
              "        vertical-align: top;\n",
              "    }\n",
              "\n",
              "    .dataframe thead th {\n",
              "        text-align: right;\n",
              "    }\n",
              "</style>\n",
              "<table border=\"1\" class=\"dataframe\">\n",
              "  <thead>\n",
              "    <tr style=\"text-align: right;\">\n",
              "      <th></th>\n",
              "      <th>PassengerId</th>\n",
              "      <th>Survived</th>\n",
              "      <th>Pclass</th>\n",
              "      <th>Name</th>\n",
              "      <th>Sex</th>\n",
              "      <th>Age</th>\n",
              "      <th>SibSp</th>\n",
              "      <th>Parch</th>\n",
              "      <th>Ticket</th>\n",
              "      <th>Fare</th>\n",
              "      <th>Cabin</th>\n",
              "      <th>Embarked</th>\n",
              "    </tr>\n",
              "  </thead>\n",
              "  <tbody>\n",
              "    <tr>\n",
              "      <th>0</th>\n",
              "      <td>1</td>\n",
              "      <td>0</td>\n",
              "      <td>3</td>\n",
              "      <td>Braund, Mr. Owen Harris</td>\n",
              "      <td>male</td>\n",
              "      <td>22.0</td>\n",
              "      <td>1</td>\n",
              "      <td>0</td>\n",
              "      <td>A/5 21171</td>\n",
              "      <td>7.2500</td>\n",
              "      <td>NaN</td>\n",
              "      <td>S</td>\n",
              "    </tr>\n",
              "    <tr>\n",
              "      <th>1</th>\n",
              "      <td>2</td>\n",
              "      <td>1</td>\n",
              "      <td>1</td>\n",
              "      <td>Cumings, Mrs. John Bradley (Florence Briggs Th...</td>\n",
              "      <td>female</td>\n",
              "      <td>38.0</td>\n",
              "      <td>1</td>\n",
              "      <td>0</td>\n",
              "      <td>PC 17599</td>\n",
              "      <td>71.2833</td>\n",
              "      <td>C85</td>\n",
              "      <td>C</td>\n",
              "    </tr>\n",
              "    <tr>\n",
              "      <th>2</th>\n",
              "      <td>3</td>\n",
              "      <td>1</td>\n",
              "      <td>3</td>\n",
              "      <td>Heikkinen, Miss. Laina</td>\n",
              "      <td>female</td>\n",
              "      <td>26.0</td>\n",
              "      <td>0</td>\n",
              "      <td>0</td>\n",
              "      <td>STON/O2. 3101282</td>\n",
              "      <td>7.9250</td>\n",
              "      <td>NaN</td>\n",
              "      <td>S</td>\n",
              "    </tr>\n",
              "  </tbody>\n",
              "</table>\n",
              "</div>"
            ],
            "text/plain": [
              "   PassengerId  Survived  Pclass  \\\n",
              "0            1         0       3   \n",
              "1            2         1       1   \n",
              "2            3         1       3   \n",
              "\n",
              "                                                Name     Sex   Age  SibSp  \\\n",
              "0                            Braund, Mr. Owen Harris    male  22.0      1   \n",
              "1  Cumings, Mrs. John Bradley (Florence Briggs Th...  female  38.0      1   \n",
              "2                             Heikkinen, Miss. Laina  female  26.0      0   \n",
              "\n",
              "   Parch            Ticket     Fare Cabin Embarked  \n",
              "0      0         A/5 21171   7.2500   NaN        S  \n",
              "1      0          PC 17599  71.2833   C85        C  \n",
              "2      0  STON/O2. 3101282   7.9250   NaN        S  "
            ]
          },
          "metadata": {
            "tags": []
          },
          "execution_count": 4
        }
      ]
    },
    {
      "metadata": {
        "id": "rsH9UCH3pIdA",
        "colab_type": "code",
        "colab": {
          "base_uri": "https://localhost:8080/",
          "height": 34
        },
        "outputId": "a7549412-6019-43b9-849f-50e3618ef6aa"
      },
      "cell_type": "code",
      "source": [
        "# We can see that the pd.read_csv gives us a DataFrame.\n",
        "type(tr)"
      ],
      "execution_count": 5,
      "outputs": [
        {
          "output_type": "execute_result",
          "data": {
            "text/plain": [
              "pandas.core.frame.DataFrame"
            ]
          },
          "metadata": {
            "tags": []
          },
          "execution_count": 5
        }
      ]
    },
    {
      "metadata": {
        "id": "YzMWvrPtuUsA",
        "colab_type": "text"
      },
      "cell_type": "markdown",
      "source": [
        "## Analyzing Our Data"
      ]
    },
    {
      "metadata": {
        "id": "j51pI3n9oFSf",
        "colab_type": "code",
        "colab": {
          "base_uri": "https://localhost:8080/",
          "height": 306
        },
        "outputId": "dc74dd6d-6743-4de2-deb9-f194fa43140f"
      },
      "cell_type": "code",
      "source": [
        "\"\"\"\n",
        "Survey the variables we have for each person.\n",
        "\n",
        "PassengerId - Unique identifiers for each passenger.\n",
        "Survived - If the passenger survived. 0 = No, 1 = Yes\n",
        "Pclass - Ticket class. 1 = 1st, 2 = 2nd, 3 = 3rd\n",
        "Name - Name of the passenger. String\n",
        "Sex - Sex of the passenger. \"male\" or \"female\"\n",
        "Age - Age of the passenger. Integer\n",
        "SibSp - # of siblings/spouses passenger had on board. Integer\n",
        "Parch - # of parents/children passenger had on board. Integer\n",
        "Ticket - Ticket number. String\n",
        "Fare - Passenger's fare. Float\n",
        "Cabin - Cabin number. String\n",
        "Embarked - Port of embarkation. \n",
        "        C = Cherbourg, Q = Queenstown, S = Southampton\n",
        "\"\"\"\n",
        "\n",
        "tr.info()"
      ],
      "execution_count": 6,
      "outputs": [
        {
          "output_type": "stream",
          "text": [
            "<class 'pandas.core.frame.DataFrame'>\n",
            "RangeIndex: 891 entries, 0 to 890\n",
            "Data columns (total 12 columns):\n",
            "PassengerId    891 non-null int64\n",
            "Survived       891 non-null int64\n",
            "Pclass         891 non-null int64\n",
            "Name           891 non-null object\n",
            "Sex            891 non-null object\n",
            "Age            714 non-null float64\n",
            "SibSp          891 non-null int64\n",
            "Parch          891 non-null int64\n",
            "Ticket         891 non-null object\n",
            "Fare           891 non-null float64\n",
            "Cabin          204 non-null object\n",
            "Embarked       889 non-null object\n",
            "dtypes: float64(2), int64(5), object(5)\n",
            "memory usage: 83.6+ KB\n"
          ],
          "name": "stdout"
        }
      ]
    },
    {
      "metadata": {
        "id": "n1qoKvJfrLJy",
        "colab_type": "code",
        "colab": {}
      },
      "cell_type": "code",
      "source": [
        "# These column names are unclear. Let's fix that.\n",
        "tr = tr.rename(index = str, columns = {\"SibSp\": \"SiblingsSpouses\", \"Parch\": \"ParentsChildren\"}) # Returns the renamed dataframe."
      ],
      "execution_count": 0,
      "outputs": []
    },
    {
      "metadata": {
        "id": "AeXm1o4JoFSk",
        "colab_type": "code",
        "colab": {
          "base_uri": "https://localhost:8080/",
          "height": 297
        },
        "outputId": "e2993064-29ff-4150-fd4e-a0dc9bb13acb"
      },
      "cell_type": "code",
      "source": [
        "# Survey some information about the numerical variables.\n",
        "tr.describe() # Method of the DataFrame class"
      ],
      "execution_count": 8,
      "outputs": [
        {
          "output_type": "execute_result",
          "data": {
            "text/html": [
              "<div>\n",
              "<style scoped>\n",
              "    .dataframe tbody tr th:only-of-type {\n",
              "        vertical-align: middle;\n",
              "    }\n",
              "\n",
              "    .dataframe tbody tr th {\n",
              "        vertical-align: top;\n",
              "    }\n",
              "\n",
              "    .dataframe thead th {\n",
              "        text-align: right;\n",
              "    }\n",
              "</style>\n",
              "<table border=\"1\" class=\"dataframe\">\n",
              "  <thead>\n",
              "    <tr style=\"text-align: right;\">\n",
              "      <th></th>\n",
              "      <th>PassengerId</th>\n",
              "      <th>Survived</th>\n",
              "      <th>Pclass</th>\n",
              "      <th>Age</th>\n",
              "      <th>SiblingsSpouses</th>\n",
              "      <th>ParentsChildren</th>\n",
              "      <th>Fare</th>\n",
              "    </tr>\n",
              "  </thead>\n",
              "  <tbody>\n",
              "    <tr>\n",
              "      <th>count</th>\n",
              "      <td>891.000000</td>\n",
              "      <td>891.000000</td>\n",
              "      <td>891.000000</td>\n",
              "      <td>714.000000</td>\n",
              "      <td>891.000000</td>\n",
              "      <td>891.000000</td>\n",
              "      <td>891.000000</td>\n",
              "    </tr>\n",
              "    <tr>\n",
              "      <th>mean</th>\n",
              "      <td>446.000000</td>\n",
              "      <td>0.383838</td>\n",
              "      <td>2.308642</td>\n",
              "      <td>29.699118</td>\n",
              "      <td>0.523008</td>\n",
              "      <td>0.381594</td>\n",
              "      <td>32.204208</td>\n",
              "    </tr>\n",
              "    <tr>\n",
              "      <th>std</th>\n",
              "      <td>257.353842</td>\n",
              "      <td>0.486592</td>\n",
              "      <td>0.836071</td>\n",
              "      <td>14.526497</td>\n",
              "      <td>1.102743</td>\n",
              "      <td>0.806057</td>\n",
              "      <td>49.693429</td>\n",
              "    </tr>\n",
              "    <tr>\n",
              "      <th>min</th>\n",
              "      <td>1.000000</td>\n",
              "      <td>0.000000</td>\n",
              "      <td>1.000000</td>\n",
              "      <td>0.420000</td>\n",
              "      <td>0.000000</td>\n",
              "      <td>0.000000</td>\n",
              "      <td>0.000000</td>\n",
              "    </tr>\n",
              "    <tr>\n",
              "      <th>25%</th>\n",
              "      <td>223.500000</td>\n",
              "      <td>0.000000</td>\n",
              "      <td>2.000000</td>\n",
              "      <td>20.125000</td>\n",
              "      <td>0.000000</td>\n",
              "      <td>0.000000</td>\n",
              "      <td>7.910400</td>\n",
              "    </tr>\n",
              "    <tr>\n",
              "      <th>50%</th>\n",
              "      <td>446.000000</td>\n",
              "      <td>0.000000</td>\n",
              "      <td>3.000000</td>\n",
              "      <td>28.000000</td>\n",
              "      <td>0.000000</td>\n",
              "      <td>0.000000</td>\n",
              "      <td>14.454200</td>\n",
              "    </tr>\n",
              "    <tr>\n",
              "      <th>75%</th>\n",
              "      <td>668.500000</td>\n",
              "      <td>1.000000</td>\n",
              "      <td>3.000000</td>\n",
              "      <td>38.000000</td>\n",
              "      <td>1.000000</td>\n",
              "      <td>0.000000</td>\n",
              "      <td>31.000000</td>\n",
              "    </tr>\n",
              "    <tr>\n",
              "      <th>max</th>\n",
              "      <td>891.000000</td>\n",
              "      <td>1.000000</td>\n",
              "      <td>3.000000</td>\n",
              "      <td>80.000000</td>\n",
              "      <td>8.000000</td>\n",
              "      <td>6.000000</td>\n",
              "      <td>512.329200</td>\n",
              "    </tr>\n",
              "  </tbody>\n",
              "</table>\n",
              "</div>"
            ],
            "text/plain": [
              "       PassengerId    Survived      Pclass         Age  SiblingsSpouses  \\\n",
              "count   891.000000  891.000000  891.000000  714.000000       891.000000   \n",
              "mean    446.000000    0.383838    2.308642   29.699118         0.523008   \n",
              "std     257.353842    0.486592    0.836071   14.526497         1.102743   \n",
              "min       1.000000    0.000000    1.000000    0.420000         0.000000   \n",
              "25%     223.500000    0.000000    2.000000   20.125000         0.000000   \n",
              "50%     446.000000    0.000000    3.000000   28.000000         0.000000   \n",
              "75%     668.500000    1.000000    3.000000   38.000000         1.000000   \n",
              "max     891.000000    1.000000    3.000000   80.000000         8.000000   \n",
              "\n",
              "       ParentsChildren        Fare  \n",
              "count       891.000000  891.000000  \n",
              "mean          0.381594   32.204208  \n",
              "std           0.806057   49.693429  \n",
              "min           0.000000    0.000000  \n",
              "25%           0.000000    7.910400  \n",
              "50%           0.000000   14.454200  \n",
              "75%           0.000000   31.000000  \n",
              "max           6.000000  512.329200  "
            ]
          },
          "metadata": {
            "tags": []
          },
          "execution_count": 8
        }
      ]
    },
    {
      "metadata": {
        "id": "maQlRzR2pY4i",
        "colab_type": "text"
      },
      "cell_type": "markdown",
      "source": [
        "Observations:\n",
        "* We have 891 of all numerical features except age. We'll need to fix that.\n",
        "* What percent of people survived?\n",
        "* What was the age of the oldest person?"
      ]
    },
    {
      "metadata": {
        "id": "ych8ZJ-yoFSn",
        "colab_type": "code",
        "colab": {
          "base_uri": "https://localhost:8080/",
          "height": 142
        },
        "outputId": "5851581a-8e50-4816-d410-79d512afd102"
      },
      "cell_type": "code",
      "source": [
        "# We noticed that the Age category was missing some values. Let's check for null values across the DataFrame.\n",
        "# Gives a dataframe of booleans showing which values in the training set are null.\n",
        "# We'll use this later, maybe.\n",
        "nulls = pd.isna(tr)\n",
        "nulls.head(3)"
      ],
      "execution_count": 9,
      "outputs": [
        {
          "output_type": "execute_result",
          "data": {
            "text/html": [
              "<div>\n",
              "<style scoped>\n",
              "    .dataframe tbody tr th:only-of-type {\n",
              "        vertical-align: middle;\n",
              "    }\n",
              "\n",
              "    .dataframe tbody tr th {\n",
              "        vertical-align: top;\n",
              "    }\n",
              "\n",
              "    .dataframe thead th {\n",
              "        text-align: right;\n",
              "    }\n",
              "</style>\n",
              "<table border=\"1\" class=\"dataframe\">\n",
              "  <thead>\n",
              "    <tr style=\"text-align: right;\">\n",
              "      <th></th>\n",
              "      <th>PassengerId</th>\n",
              "      <th>Survived</th>\n",
              "      <th>Pclass</th>\n",
              "      <th>Name</th>\n",
              "      <th>Sex</th>\n",
              "      <th>Age</th>\n",
              "      <th>SiblingsSpouses</th>\n",
              "      <th>ParentsChildren</th>\n",
              "      <th>Ticket</th>\n",
              "      <th>Fare</th>\n",
              "      <th>Cabin</th>\n",
              "      <th>Embarked</th>\n",
              "    </tr>\n",
              "  </thead>\n",
              "  <tbody>\n",
              "    <tr>\n",
              "      <th>0</th>\n",
              "      <td>False</td>\n",
              "      <td>False</td>\n",
              "      <td>False</td>\n",
              "      <td>False</td>\n",
              "      <td>False</td>\n",
              "      <td>False</td>\n",
              "      <td>False</td>\n",
              "      <td>False</td>\n",
              "      <td>False</td>\n",
              "      <td>False</td>\n",
              "      <td>True</td>\n",
              "      <td>False</td>\n",
              "    </tr>\n",
              "    <tr>\n",
              "      <th>1</th>\n",
              "      <td>False</td>\n",
              "      <td>False</td>\n",
              "      <td>False</td>\n",
              "      <td>False</td>\n",
              "      <td>False</td>\n",
              "      <td>False</td>\n",
              "      <td>False</td>\n",
              "      <td>False</td>\n",
              "      <td>False</td>\n",
              "      <td>False</td>\n",
              "      <td>False</td>\n",
              "      <td>False</td>\n",
              "    </tr>\n",
              "    <tr>\n",
              "      <th>2</th>\n",
              "      <td>False</td>\n",
              "      <td>False</td>\n",
              "      <td>False</td>\n",
              "      <td>False</td>\n",
              "      <td>False</td>\n",
              "      <td>False</td>\n",
              "      <td>False</td>\n",
              "      <td>False</td>\n",
              "      <td>False</td>\n",
              "      <td>False</td>\n",
              "      <td>True</td>\n",
              "      <td>False</td>\n",
              "    </tr>\n",
              "  </tbody>\n",
              "</table>\n",
              "</div>"
            ],
            "text/plain": [
              "   PassengerId  Survived  Pclass   Name    Sex    Age  SiblingsSpouses  \\\n",
              "0        False     False   False  False  False  False            False   \n",
              "1        False     False   False  False  False  False            False   \n",
              "2        False     False   False  False  False  False            False   \n",
              "\n",
              "   ParentsChildren  Ticket   Fare  Cabin  Embarked  \n",
              "0            False   False  False   True     False  \n",
              "1            False   False  False  False     False  \n",
              "2            False   False  False   True     False  "
            ]
          },
          "metadata": {
            "tags": []
          },
          "execution_count": 9
        }
      ]
    },
    {
      "metadata": {
        "id": "3AMPLDWroFSs",
        "colab_type": "code",
        "colab": {}
      },
      "cell_type": "code",
      "source": [
        "def makeCategorical(col, df):\n",
        "    \"\"\"\n",
        "    Makes a given column categorical in the dataframe. Returns fixed dataframe.\n",
        "    \n",
        "    Parameters\n",
        "    ----------\n",
        "    col : String\n",
        "        The name of the column to make categorical.\n",
        "    df : pandas DataFrame\n",
        "        The dataframe to be altered.\n",
        "    \"\"\"\n",
        "    df[col] = pd.Categorical(df[col]) # The important part.\n",
        "    return df"
      ],
      "execution_count": 0,
      "outputs": []
    },
    {
      "metadata": {
        "id": "kiHs_44coFSv",
        "colab_type": "code",
        "colab": {}
      },
      "cell_type": "code",
      "source": [
        "# Makes these columns explicit categories:\n",
        "categories = [\"Sex\", \"Survived\", \"Pclass\", \"SiblingsSpouses\", \"ParentsChildren\"]\n",
        "for i in range(len(categories)):\n",
        "    makeCategorical(categories[i], tr)"
      ],
      "execution_count": 0,
      "outputs": []
    },
    {
      "metadata": {
        "id": "GHY_rOA4oFSy",
        "colab_type": "code",
        "colab": {
          "base_uri": "https://localhost:8080/",
          "height": 119
        },
        "outputId": "c1d2cdb9-e8f9-47a9-97e8-6729ea598d8f"
      },
      "cell_type": "code",
      "source": [
        "# Shows how many categories each categorical column has.\n",
        "preview = \"\"\n",
        "for i in range(len(categories)): # For the categories we just made\n",
        "    col = categories[i]\n",
        "    preview = preview + str(col) + \": \" + str(len(tr[col].cat.categories)) + \"\\n\" # We'll get into this a bit more in a second, don't worry.\n",
        "print(preview)"
      ],
      "execution_count": 12,
      "outputs": [
        {
          "output_type": "stream",
          "text": [
            "Sex: 2\n",
            "Survived: 2\n",
            "Pclass: 3\n",
            "SiblingsSpouses: 7\n",
            "ParentsChildren: 7\n",
            "\n"
          ],
          "name": "stdout"
        }
      ]
    },
    {
      "metadata": {
        "id": "wioDjWTPuLLH",
        "colab_type": "text"
      },
      "cell_type": "markdown",
      "source": [
        "## Slicing DataFrames"
      ]
    },
    {
      "metadata": {
        "id": "JR_zsR4wuExL",
        "colab_type": "code",
        "colab": {
          "base_uri": "https://localhost:8080/",
          "height": 193
        },
        "outputId": "8899e975-1851-48b1-a055-3aadd1f5c00c"
      },
      "cell_type": "code",
      "source": [
        "# We can slice by rows pretty intuitively. These slices do not include the final index.\n",
        "tr[0:3]"
      ],
      "execution_count": 13,
      "outputs": [
        {
          "output_type": "execute_result",
          "data": {
            "text/html": [
              "<div>\n",
              "<style scoped>\n",
              "    .dataframe tbody tr th:only-of-type {\n",
              "        vertical-align: middle;\n",
              "    }\n",
              "\n",
              "    .dataframe tbody tr th {\n",
              "        vertical-align: top;\n",
              "    }\n",
              "\n",
              "    .dataframe thead th {\n",
              "        text-align: right;\n",
              "    }\n",
              "</style>\n",
              "<table border=\"1\" class=\"dataframe\">\n",
              "  <thead>\n",
              "    <tr style=\"text-align: right;\">\n",
              "      <th></th>\n",
              "      <th>PassengerId</th>\n",
              "      <th>Survived</th>\n",
              "      <th>Pclass</th>\n",
              "      <th>Name</th>\n",
              "      <th>Sex</th>\n",
              "      <th>Age</th>\n",
              "      <th>SiblingsSpouses</th>\n",
              "      <th>ParentsChildren</th>\n",
              "      <th>Ticket</th>\n",
              "      <th>Fare</th>\n",
              "      <th>Cabin</th>\n",
              "      <th>Embarked</th>\n",
              "    </tr>\n",
              "  </thead>\n",
              "  <tbody>\n",
              "    <tr>\n",
              "      <th>0</th>\n",
              "      <td>1</td>\n",
              "      <td>0</td>\n",
              "      <td>3</td>\n",
              "      <td>Braund, Mr. Owen Harris</td>\n",
              "      <td>male</td>\n",
              "      <td>22.0</td>\n",
              "      <td>1</td>\n",
              "      <td>0</td>\n",
              "      <td>A/5 21171</td>\n",
              "      <td>7.2500</td>\n",
              "      <td>NaN</td>\n",
              "      <td>S</td>\n",
              "    </tr>\n",
              "    <tr>\n",
              "      <th>1</th>\n",
              "      <td>2</td>\n",
              "      <td>1</td>\n",
              "      <td>1</td>\n",
              "      <td>Cumings, Mrs. John Bradley (Florence Briggs Th...</td>\n",
              "      <td>female</td>\n",
              "      <td>38.0</td>\n",
              "      <td>1</td>\n",
              "      <td>0</td>\n",
              "      <td>PC 17599</td>\n",
              "      <td>71.2833</td>\n",
              "      <td>C85</td>\n",
              "      <td>C</td>\n",
              "    </tr>\n",
              "    <tr>\n",
              "      <th>2</th>\n",
              "      <td>3</td>\n",
              "      <td>1</td>\n",
              "      <td>3</td>\n",
              "      <td>Heikkinen, Miss. Laina</td>\n",
              "      <td>female</td>\n",
              "      <td>26.0</td>\n",
              "      <td>0</td>\n",
              "      <td>0</td>\n",
              "      <td>STON/O2. 3101282</td>\n",
              "      <td>7.9250</td>\n",
              "      <td>NaN</td>\n",
              "      <td>S</td>\n",
              "    </tr>\n",
              "  </tbody>\n",
              "</table>\n",
              "</div>"
            ],
            "text/plain": [
              "   PassengerId Survived Pclass  \\\n",
              "0            1        0      3   \n",
              "1            2        1      1   \n",
              "2            3        1      3   \n",
              "\n",
              "                                                Name     Sex   Age  \\\n",
              "0                            Braund, Mr. Owen Harris    male  22.0   \n",
              "1  Cumings, Mrs. John Bradley (Florence Briggs Th...  female  38.0   \n",
              "2                             Heikkinen, Miss. Laina  female  26.0   \n",
              "\n",
              "  SiblingsSpouses ParentsChildren            Ticket     Fare Cabin Embarked  \n",
              "0               1               0         A/5 21171   7.2500   NaN        S  \n",
              "1               1               0          PC 17599  71.2833   C85        C  \n",
              "2               0               0  STON/O2. 3101282   7.9250   NaN        S  "
            ]
          },
          "metadata": {
            "tags": []
          },
          "execution_count": 13
        }
      ]
    },
    {
      "metadata": {
        "id": "MiU_gUBxu4gk",
        "colab_type": "code",
        "colab": {
          "base_uri": "https://localhost:8080/",
          "height": 238
        },
        "outputId": "7e957917-4e10-40aa-c6ad-6a9c332a588b"
      },
      "cell_type": "code",
      "source": [
        "# Check the last 5 observations.\n",
        "tr.tail(5)"
      ],
      "execution_count": 14,
      "outputs": [
        {
          "output_type": "execute_result",
          "data": {
            "text/html": [
              "<div>\n",
              "<style scoped>\n",
              "    .dataframe tbody tr th:only-of-type {\n",
              "        vertical-align: middle;\n",
              "    }\n",
              "\n",
              "    .dataframe tbody tr th {\n",
              "        vertical-align: top;\n",
              "    }\n",
              "\n",
              "    .dataframe thead th {\n",
              "        text-align: right;\n",
              "    }\n",
              "</style>\n",
              "<table border=\"1\" class=\"dataframe\">\n",
              "  <thead>\n",
              "    <tr style=\"text-align: right;\">\n",
              "      <th></th>\n",
              "      <th>PassengerId</th>\n",
              "      <th>Survived</th>\n",
              "      <th>Pclass</th>\n",
              "      <th>Name</th>\n",
              "      <th>Sex</th>\n",
              "      <th>Age</th>\n",
              "      <th>SiblingsSpouses</th>\n",
              "      <th>ParentsChildren</th>\n",
              "      <th>Ticket</th>\n",
              "      <th>Fare</th>\n",
              "      <th>Cabin</th>\n",
              "      <th>Embarked</th>\n",
              "    </tr>\n",
              "  </thead>\n",
              "  <tbody>\n",
              "    <tr>\n",
              "      <th>886</th>\n",
              "      <td>887</td>\n",
              "      <td>0</td>\n",
              "      <td>2</td>\n",
              "      <td>Montvila, Rev. Juozas</td>\n",
              "      <td>male</td>\n",
              "      <td>27.0</td>\n",
              "      <td>0</td>\n",
              "      <td>0</td>\n",
              "      <td>211536</td>\n",
              "      <td>13.00</td>\n",
              "      <td>NaN</td>\n",
              "      <td>S</td>\n",
              "    </tr>\n",
              "    <tr>\n",
              "      <th>887</th>\n",
              "      <td>888</td>\n",
              "      <td>1</td>\n",
              "      <td>1</td>\n",
              "      <td>Graham, Miss. Margaret Edith</td>\n",
              "      <td>female</td>\n",
              "      <td>19.0</td>\n",
              "      <td>0</td>\n",
              "      <td>0</td>\n",
              "      <td>112053</td>\n",
              "      <td>30.00</td>\n",
              "      <td>B42</td>\n",
              "      <td>S</td>\n",
              "    </tr>\n",
              "    <tr>\n",
              "      <th>888</th>\n",
              "      <td>889</td>\n",
              "      <td>0</td>\n",
              "      <td>3</td>\n",
              "      <td>Johnston, Miss. Catherine Helen \"Carrie\"</td>\n",
              "      <td>female</td>\n",
              "      <td>NaN</td>\n",
              "      <td>1</td>\n",
              "      <td>2</td>\n",
              "      <td>W./C. 6607</td>\n",
              "      <td>23.45</td>\n",
              "      <td>NaN</td>\n",
              "      <td>S</td>\n",
              "    </tr>\n",
              "    <tr>\n",
              "      <th>889</th>\n",
              "      <td>890</td>\n",
              "      <td>1</td>\n",
              "      <td>1</td>\n",
              "      <td>Behr, Mr. Karl Howell</td>\n",
              "      <td>male</td>\n",
              "      <td>26.0</td>\n",
              "      <td>0</td>\n",
              "      <td>0</td>\n",
              "      <td>111369</td>\n",
              "      <td>30.00</td>\n",
              "      <td>C148</td>\n",
              "      <td>C</td>\n",
              "    </tr>\n",
              "    <tr>\n",
              "      <th>890</th>\n",
              "      <td>891</td>\n",
              "      <td>0</td>\n",
              "      <td>3</td>\n",
              "      <td>Dooley, Mr. Patrick</td>\n",
              "      <td>male</td>\n",
              "      <td>32.0</td>\n",
              "      <td>0</td>\n",
              "      <td>0</td>\n",
              "      <td>370376</td>\n",
              "      <td>7.75</td>\n",
              "      <td>NaN</td>\n",
              "      <td>Q</td>\n",
              "    </tr>\n",
              "  </tbody>\n",
              "</table>\n",
              "</div>"
            ],
            "text/plain": [
              "     PassengerId Survived Pclass                                      Name  \\\n",
              "886          887        0      2                     Montvila, Rev. Juozas   \n",
              "887          888        1      1              Graham, Miss. Margaret Edith   \n",
              "888          889        0      3  Johnston, Miss. Catherine Helen \"Carrie\"   \n",
              "889          890        1      1                     Behr, Mr. Karl Howell   \n",
              "890          891        0      3                       Dooley, Mr. Patrick   \n",
              "\n",
              "        Sex   Age SiblingsSpouses ParentsChildren      Ticket   Fare Cabin  \\\n",
              "886    male  27.0               0               0      211536  13.00   NaN   \n",
              "887  female  19.0               0               0      112053  30.00   B42   \n",
              "888  female   NaN               1               2  W./C. 6607  23.45   NaN   \n",
              "889    male  26.0               0               0      111369  30.00  C148   \n",
              "890    male  32.0               0               0      370376   7.75   NaN   \n",
              "\n",
              "    Embarked  \n",
              "886        S  \n",
              "887        S  \n",
              "888        S  \n",
              "889        C  \n",
              "890        Q  "
            ]
          },
          "metadata": {
            "tags": []
          },
          "execution_count": 14
        }
      ]
    },
    {
      "metadata": {
        "id": "RFY4cY4VuGqC",
        "colab_type": "code",
        "colab": {
          "base_uri": "https://localhost:8080/",
          "height": 176
        },
        "outputId": "7b1f6796-bc9e-4eed-9bd7-9b88c44aa2a8"
      },
      "cell_type": "code",
      "source": [
        "# We can also index from the ends of the DataFrame. Conceptualize it as if the final example is indexed -0.\n",
        "tr[-4:-1]"
      ],
      "execution_count": 15,
      "outputs": [
        {
          "output_type": "execute_result",
          "data": {
            "text/html": [
              "<div>\n",
              "<style scoped>\n",
              "    .dataframe tbody tr th:only-of-type {\n",
              "        vertical-align: middle;\n",
              "    }\n",
              "\n",
              "    .dataframe tbody tr th {\n",
              "        vertical-align: top;\n",
              "    }\n",
              "\n",
              "    .dataframe thead th {\n",
              "        text-align: right;\n",
              "    }\n",
              "</style>\n",
              "<table border=\"1\" class=\"dataframe\">\n",
              "  <thead>\n",
              "    <tr style=\"text-align: right;\">\n",
              "      <th></th>\n",
              "      <th>PassengerId</th>\n",
              "      <th>Survived</th>\n",
              "      <th>Pclass</th>\n",
              "      <th>Name</th>\n",
              "      <th>Sex</th>\n",
              "      <th>Age</th>\n",
              "      <th>SiblingsSpouses</th>\n",
              "      <th>ParentsChildren</th>\n",
              "      <th>Ticket</th>\n",
              "      <th>Fare</th>\n",
              "      <th>Cabin</th>\n",
              "      <th>Embarked</th>\n",
              "    </tr>\n",
              "  </thead>\n",
              "  <tbody>\n",
              "    <tr>\n",
              "      <th>887</th>\n",
              "      <td>888</td>\n",
              "      <td>1</td>\n",
              "      <td>1</td>\n",
              "      <td>Graham, Miss. Margaret Edith</td>\n",
              "      <td>female</td>\n",
              "      <td>19.0</td>\n",
              "      <td>0</td>\n",
              "      <td>0</td>\n",
              "      <td>112053</td>\n",
              "      <td>30.00</td>\n",
              "      <td>B42</td>\n",
              "      <td>S</td>\n",
              "    </tr>\n",
              "    <tr>\n",
              "      <th>888</th>\n",
              "      <td>889</td>\n",
              "      <td>0</td>\n",
              "      <td>3</td>\n",
              "      <td>Johnston, Miss. Catherine Helen \"Carrie\"</td>\n",
              "      <td>female</td>\n",
              "      <td>NaN</td>\n",
              "      <td>1</td>\n",
              "      <td>2</td>\n",
              "      <td>W./C. 6607</td>\n",
              "      <td>23.45</td>\n",
              "      <td>NaN</td>\n",
              "      <td>S</td>\n",
              "    </tr>\n",
              "    <tr>\n",
              "      <th>889</th>\n",
              "      <td>890</td>\n",
              "      <td>1</td>\n",
              "      <td>1</td>\n",
              "      <td>Behr, Mr. Karl Howell</td>\n",
              "      <td>male</td>\n",
              "      <td>26.0</td>\n",
              "      <td>0</td>\n",
              "      <td>0</td>\n",
              "      <td>111369</td>\n",
              "      <td>30.00</td>\n",
              "      <td>C148</td>\n",
              "      <td>C</td>\n",
              "    </tr>\n",
              "  </tbody>\n",
              "</table>\n",
              "</div>"
            ],
            "text/plain": [
              "     PassengerId Survived Pclass                                      Name  \\\n",
              "887          888        1      1              Graham, Miss. Margaret Edith   \n",
              "888          889        0      3  Johnston, Miss. Catherine Helen \"Carrie\"   \n",
              "889          890        1      1                     Behr, Mr. Karl Howell   \n",
              "\n",
              "        Sex   Age SiblingsSpouses ParentsChildren      Ticket   Fare Cabin  \\\n",
              "887  female  19.0               0               0      112053  30.00   B42   \n",
              "888  female   NaN               1               2  W./C. 6607  23.45   NaN   \n",
              "889    male  26.0               0               0      111369  30.00  C148   \n",
              "\n",
              "    Embarked  \n",
              "887        S  \n",
              "888        S  \n",
              "889        C  "
            ]
          },
          "metadata": {
            "tags": []
          },
          "execution_count": 15
        }
      ]
    },
    {
      "metadata": {
        "id": "qW0oxOy_znBq",
        "colab_type": "code",
        "colab": {
          "base_uri": "https://localhost:8080/",
          "height": 235
        },
        "outputId": "9c4daa43-0cee-4872-936b-39e5eb18af08"
      },
      "cell_type": "code",
      "source": [
        "# Finally, we can slice in both directions:\n",
        "tr.loc[\"0\":\"5\", \"Name\":\"Age\"] # Note that the start and end of this slice are included."
      ],
      "execution_count": 16,
      "outputs": [
        {
          "output_type": "execute_result",
          "data": {
            "text/html": [
              "<div>\n",
              "<style scoped>\n",
              "    .dataframe tbody tr th:only-of-type {\n",
              "        vertical-align: middle;\n",
              "    }\n",
              "\n",
              "    .dataframe tbody tr th {\n",
              "        vertical-align: top;\n",
              "    }\n",
              "\n",
              "    .dataframe thead th {\n",
              "        text-align: right;\n",
              "    }\n",
              "</style>\n",
              "<table border=\"1\" class=\"dataframe\">\n",
              "  <thead>\n",
              "    <tr style=\"text-align: right;\">\n",
              "      <th></th>\n",
              "      <th>Name</th>\n",
              "      <th>Sex</th>\n",
              "      <th>Age</th>\n",
              "    </tr>\n",
              "  </thead>\n",
              "  <tbody>\n",
              "    <tr>\n",
              "      <th>0</th>\n",
              "      <td>Braund, Mr. Owen Harris</td>\n",
              "      <td>male</td>\n",
              "      <td>22.0</td>\n",
              "    </tr>\n",
              "    <tr>\n",
              "      <th>1</th>\n",
              "      <td>Cumings, Mrs. John Bradley (Florence Briggs Th...</td>\n",
              "      <td>female</td>\n",
              "      <td>38.0</td>\n",
              "    </tr>\n",
              "    <tr>\n",
              "      <th>2</th>\n",
              "      <td>Heikkinen, Miss. Laina</td>\n",
              "      <td>female</td>\n",
              "      <td>26.0</td>\n",
              "    </tr>\n",
              "    <tr>\n",
              "      <th>3</th>\n",
              "      <td>Futrelle, Mrs. Jacques Heath (Lily May Peel)</td>\n",
              "      <td>female</td>\n",
              "      <td>35.0</td>\n",
              "    </tr>\n",
              "    <tr>\n",
              "      <th>4</th>\n",
              "      <td>Allen, Mr. William Henry</td>\n",
              "      <td>male</td>\n",
              "      <td>35.0</td>\n",
              "    </tr>\n",
              "    <tr>\n",
              "      <th>5</th>\n",
              "      <td>Moran, Mr. James</td>\n",
              "      <td>male</td>\n",
              "      <td>NaN</td>\n",
              "    </tr>\n",
              "  </tbody>\n",
              "</table>\n",
              "</div>"
            ],
            "text/plain": [
              "                                                Name     Sex   Age\n",
              "0                            Braund, Mr. Owen Harris    male  22.0\n",
              "1  Cumings, Mrs. John Bradley (Florence Briggs Th...  female  38.0\n",
              "2                             Heikkinen, Miss. Laina  female  26.0\n",
              "3       Futrelle, Mrs. Jacques Heath (Lily May Peel)  female  35.0\n",
              "4                           Allen, Mr. William Henry    male  35.0\n",
              "5                                   Moran, Mr. James    male   NaN"
            ]
          },
          "metadata": {
            "tags": []
          },
          "execution_count": 16
        }
      ]
    },
    {
      "metadata": {
        "id": "30g5RZyM00_5",
        "colab_type": "text"
      },
      "cell_type": "markdown",
      "source": [
        "The row indices are Strings here, which is a bit confusing. Some explanation:\n",
        "* https://pandas.pydata.org/pandas-docs/stable/indexing.html#selection-by-label"
      ]
    },
    {
      "metadata": {
        "id": "Xler3yUv1bhX",
        "colab_type": "code",
        "colab": {
          "base_uri": "https://localhost:8080/",
          "height": 204
        },
        "outputId": "ebb09daf-8b99-4062-d0e6-56625fe01733"
      },
      "cell_type": "code",
      "source": [
        "# We can also select specific rows or columns.\n",
        "listOfImportantPeople = [\"0\",\"5\",\"10\", \"420\", \"500\"] # We only care about these people.\n",
        "features = [\"Name\", \"Age\", \"Cabin\"]\n",
        "tr.loc[listOfImportantPeople, features]"
      ],
      "execution_count": 17,
      "outputs": [
        {
          "output_type": "execute_result",
          "data": {
            "text/html": [
              "<div>\n",
              "<style scoped>\n",
              "    .dataframe tbody tr th:only-of-type {\n",
              "        vertical-align: middle;\n",
              "    }\n",
              "\n",
              "    .dataframe tbody tr th {\n",
              "        vertical-align: top;\n",
              "    }\n",
              "\n",
              "    .dataframe thead th {\n",
              "        text-align: right;\n",
              "    }\n",
              "</style>\n",
              "<table border=\"1\" class=\"dataframe\">\n",
              "  <thead>\n",
              "    <tr style=\"text-align: right;\">\n",
              "      <th></th>\n",
              "      <th>Name</th>\n",
              "      <th>Age</th>\n",
              "      <th>Cabin</th>\n",
              "    </tr>\n",
              "  </thead>\n",
              "  <tbody>\n",
              "    <tr>\n",
              "      <th>0</th>\n",
              "      <td>Braund, Mr. Owen Harris</td>\n",
              "      <td>22.0</td>\n",
              "      <td>NaN</td>\n",
              "    </tr>\n",
              "    <tr>\n",
              "      <th>5</th>\n",
              "      <td>Moran, Mr. James</td>\n",
              "      <td>NaN</td>\n",
              "      <td>NaN</td>\n",
              "    </tr>\n",
              "    <tr>\n",
              "      <th>10</th>\n",
              "      <td>Sandstrom, Miss. Marguerite Rut</td>\n",
              "      <td>4.0</td>\n",
              "      <td>G6</td>\n",
              "    </tr>\n",
              "    <tr>\n",
              "      <th>420</th>\n",
              "      <td>Gheorgheff, Mr. Stanio</td>\n",
              "      <td>NaN</td>\n",
              "      <td>NaN</td>\n",
              "    </tr>\n",
              "    <tr>\n",
              "      <th>500</th>\n",
              "      <td>Calic, Mr. Petar</td>\n",
              "      <td>17.0</td>\n",
              "      <td>NaN</td>\n",
              "    </tr>\n",
              "  </tbody>\n",
              "</table>\n",
              "</div>"
            ],
            "text/plain": [
              "                                Name   Age Cabin\n",
              "0            Braund, Mr. Owen Harris  22.0   NaN\n",
              "5                   Moran, Mr. James   NaN   NaN\n",
              "10   Sandstrom, Miss. Marguerite Rut   4.0    G6\n",
              "420           Gheorgheff, Mr. Stanio   NaN   NaN\n",
              "500                 Calic, Mr. Petar  17.0   NaN"
            ]
          },
          "metadata": {
            "tags": []
          },
          "execution_count": 17
        }
      ]
    },
    {
      "metadata": {
        "id": "KFWcaWIlvpNQ",
        "colab_type": "text"
      },
      "cell_type": "markdown",
      "source": [
        "## Fixing Null Ages\n",
        "Recall: Our Age column had some missing observations. We should work on that.\n",
        "\n",
        "But are the ages of the males and females on the Titanic different enough to justify averaging them separately?\n",
        "\n",
        "There's only one way to find out..."
      ]
    },
    {
      "metadata": {
        "id": "t6hWam7_skMO",
        "colab_type": "code",
        "colab": {
          "base_uri": "https://localhost:8080/",
          "height": 136
        },
        "outputId": "08d5dd6a-01ff-43d5-8504-17c016bf5859"
      },
      "cell_type": "code",
      "source": [
        "# Now, how do we access just one column?\n",
        "sexLabels = tr[\"Sex\"] # Selects the \"Sex\" column.\n",
        "sexLabels.head(5)"
      ],
      "execution_count": 18,
      "outputs": [
        {
          "output_type": "execute_result",
          "data": {
            "text/plain": [
              "0      male\n",
              "1    female\n",
              "2    female\n",
              "3    female\n",
              "4      male\n",
              "Name: Sex, dtype: category\n",
              "Categories (2, object): [female, male]"
            ]
          },
          "metadata": {
            "tags": []
          },
          "execution_count": 18
        }
      ]
    },
    {
      "metadata": {
        "id": "RPRmdmrZs-tk",
        "colab_type": "code",
        "colab": {
          "base_uri": "https://localhost:8080/",
          "height": 34
        },
        "outputId": "1946c845-c313-4f5f-a7ba-5e0a8c3d8799"
      },
      "cell_type": "code",
      "source": [
        "# It's a Series. Pandas documentation describes these as \"One-dimensional ndarray with axis labels\"\n",
        "type(sexLabels)"
      ],
      "execution_count": 19,
      "outputs": [
        {
          "output_type": "execute_result",
          "data": {
            "text/plain": [
              "pandas.core.series.Series"
            ]
          },
          "metadata": {
            "tags": []
          },
          "execution_count": 19
        }
      ]
    },
    {
      "metadata": {
        "id": "5i9Cmy-htfbn",
        "colab_type": "code",
        "colab": {
          "base_uri": "https://localhost:8080/",
          "height": 119
        },
        "outputId": "78961f55-1301-4a76-bc5a-e5be8cf0c316"
      },
      "cell_type": "code",
      "source": [
        "# What if we wanted a Series of booleans, in order to select the correct observations?\n",
        "# We can select observations by label:\n",
        "males_bool = sexLabels == \"male\"\n",
        "females_bool = sexLabels == \"female\"\n",
        "females_bool.head(5)"
      ],
      "execution_count": 20,
      "outputs": [
        {
          "output_type": "execute_result",
          "data": {
            "text/plain": [
              "0    False\n",
              "1     True\n",
              "2     True\n",
              "3     True\n",
              "4    False\n",
              "Name: Sex, dtype: bool"
            ]
          },
          "metadata": {
            "tags": []
          },
          "execution_count": 20
        }
      ]
    },
    {
      "metadata": {
        "id": "AlrMW751t4sL",
        "colab_type": "code",
        "colab": {
          "base_uri": "https://localhost:8080/",
          "height": 238
        },
        "outputId": "574dacc7-0be0-4c4c-9fd7-d061fe78905f"
      },
      "cell_type": "code",
      "source": [
        "# Finally, let's find those examples.\n",
        "males = tr.loc[males_bool]\n",
        "males.head(5)"
      ],
      "execution_count": 21,
      "outputs": [
        {
          "output_type": "execute_result",
          "data": {
            "text/html": [
              "<div>\n",
              "<style scoped>\n",
              "    .dataframe tbody tr th:only-of-type {\n",
              "        vertical-align: middle;\n",
              "    }\n",
              "\n",
              "    .dataframe tbody tr th {\n",
              "        vertical-align: top;\n",
              "    }\n",
              "\n",
              "    .dataframe thead th {\n",
              "        text-align: right;\n",
              "    }\n",
              "</style>\n",
              "<table border=\"1\" class=\"dataframe\">\n",
              "  <thead>\n",
              "    <tr style=\"text-align: right;\">\n",
              "      <th></th>\n",
              "      <th>PassengerId</th>\n",
              "      <th>Survived</th>\n",
              "      <th>Pclass</th>\n",
              "      <th>Name</th>\n",
              "      <th>Sex</th>\n",
              "      <th>Age</th>\n",
              "      <th>SiblingsSpouses</th>\n",
              "      <th>ParentsChildren</th>\n",
              "      <th>Ticket</th>\n",
              "      <th>Fare</th>\n",
              "      <th>Cabin</th>\n",
              "      <th>Embarked</th>\n",
              "    </tr>\n",
              "  </thead>\n",
              "  <tbody>\n",
              "    <tr>\n",
              "      <th>0</th>\n",
              "      <td>1</td>\n",
              "      <td>0</td>\n",
              "      <td>3</td>\n",
              "      <td>Braund, Mr. Owen Harris</td>\n",
              "      <td>male</td>\n",
              "      <td>22.0</td>\n",
              "      <td>1</td>\n",
              "      <td>0</td>\n",
              "      <td>A/5 21171</td>\n",
              "      <td>7.2500</td>\n",
              "      <td>NaN</td>\n",
              "      <td>S</td>\n",
              "    </tr>\n",
              "    <tr>\n",
              "      <th>4</th>\n",
              "      <td>5</td>\n",
              "      <td>0</td>\n",
              "      <td>3</td>\n",
              "      <td>Allen, Mr. William Henry</td>\n",
              "      <td>male</td>\n",
              "      <td>35.0</td>\n",
              "      <td>0</td>\n",
              "      <td>0</td>\n",
              "      <td>373450</td>\n",
              "      <td>8.0500</td>\n",
              "      <td>NaN</td>\n",
              "      <td>S</td>\n",
              "    </tr>\n",
              "    <tr>\n",
              "      <th>5</th>\n",
              "      <td>6</td>\n",
              "      <td>0</td>\n",
              "      <td>3</td>\n",
              "      <td>Moran, Mr. James</td>\n",
              "      <td>male</td>\n",
              "      <td>NaN</td>\n",
              "      <td>0</td>\n",
              "      <td>0</td>\n",
              "      <td>330877</td>\n",
              "      <td>8.4583</td>\n",
              "      <td>NaN</td>\n",
              "      <td>Q</td>\n",
              "    </tr>\n",
              "    <tr>\n",
              "      <th>6</th>\n",
              "      <td>7</td>\n",
              "      <td>0</td>\n",
              "      <td>1</td>\n",
              "      <td>McCarthy, Mr. Timothy J</td>\n",
              "      <td>male</td>\n",
              "      <td>54.0</td>\n",
              "      <td>0</td>\n",
              "      <td>0</td>\n",
              "      <td>17463</td>\n",
              "      <td>51.8625</td>\n",
              "      <td>E46</td>\n",
              "      <td>S</td>\n",
              "    </tr>\n",
              "    <tr>\n",
              "      <th>7</th>\n",
              "      <td>8</td>\n",
              "      <td>0</td>\n",
              "      <td>3</td>\n",
              "      <td>Palsson, Master. Gosta Leonard</td>\n",
              "      <td>male</td>\n",
              "      <td>2.0</td>\n",
              "      <td>3</td>\n",
              "      <td>1</td>\n",
              "      <td>349909</td>\n",
              "      <td>21.0750</td>\n",
              "      <td>NaN</td>\n",
              "      <td>S</td>\n",
              "    </tr>\n",
              "  </tbody>\n",
              "</table>\n",
              "</div>"
            ],
            "text/plain": [
              "   PassengerId Survived Pclass                            Name   Sex   Age  \\\n",
              "0            1        0      3         Braund, Mr. Owen Harris  male  22.0   \n",
              "4            5        0      3        Allen, Mr. William Henry  male  35.0   \n",
              "5            6        0      3                Moran, Mr. James  male   NaN   \n",
              "6            7        0      1         McCarthy, Mr. Timothy J  male  54.0   \n",
              "7            8        0      3  Palsson, Master. Gosta Leonard  male   2.0   \n",
              "\n",
              "  SiblingsSpouses ParentsChildren     Ticket     Fare Cabin Embarked  \n",
              "0               1               0  A/5 21171   7.2500   NaN        S  \n",
              "4               0               0     373450   8.0500   NaN        S  \n",
              "5               0               0     330877   8.4583   NaN        Q  \n",
              "6               0               0      17463  51.8625   E46        S  \n",
              "7               3               1     349909  21.0750   NaN        S  "
            ]
          },
          "metadata": {
            "tags": []
          },
          "execution_count": 21
        }
      ]
    },
    {
      "metadata": {
        "id": "t51xKMQHoFS3",
        "colab_type": "code",
        "colab": {}
      },
      "cell_type": "code",
      "source": [
        "# Using what we've seen, create two dataframes each with either the male and females observations.\n",
        "tr_male = tr.loc[tr[\"Sex\"] == \"male\"]\n",
        "tr_female = tr.loc[tr[\"Sex\"] == \"female\"]"
      ],
      "execution_count": 0,
      "outputs": []
    },
    {
      "metadata": {
        "id": "KHvcREjmoFS6",
        "colab_type": "code",
        "colab": {
          "base_uri": "https://localhost:8080/",
          "height": 142
        },
        "outputId": "80d0e083-c577-4d32-a666-38685b858870"
      },
      "cell_type": "code",
      "source": [
        "# Previews the male dataframe.\n",
        "tr_male.head(3)"
      ],
      "execution_count": 23,
      "outputs": [
        {
          "output_type": "execute_result",
          "data": {
            "text/html": [
              "<div>\n",
              "<style scoped>\n",
              "    .dataframe tbody tr th:only-of-type {\n",
              "        vertical-align: middle;\n",
              "    }\n",
              "\n",
              "    .dataframe tbody tr th {\n",
              "        vertical-align: top;\n",
              "    }\n",
              "\n",
              "    .dataframe thead th {\n",
              "        text-align: right;\n",
              "    }\n",
              "</style>\n",
              "<table border=\"1\" class=\"dataframe\">\n",
              "  <thead>\n",
              "    <tr style=\"text-align: right;\">\n",
              "      <th></th>\n",
              "      <th>PassengerId</th>\n",
              "      <th>Survived</th>\n",
              "      <th>Pclass</th>\n",
              "      <th>Name</th>\n",
              "      <th>Sex</th>\n",
              "      <th>Age</th>\n",
              "      <th>SiblingsSpouses</th>\n",
              "      <th>ParentsChildren</th>\n",
              "      <th>Ticket</th>\n",
              "      <th>Fare</th>\n",
              "      <th>Cabin</th>\n",
              "      <th>Embarked</th>\n",
              "    </tr>\n",
              "  </thead>\n",
              "  <tbody>\n",
              "    <tr>\n",
              "      <th>0</th>\n",
              "      <td>1</td>\n",
              "      <td>0</td>\n",
              "      <td>3</td>\n",
              "      <td>Braund, Mr. Owen Harris</td>\n",
              "      <td>male</td>\n",
              "      <td>22.0</td>\n",
              "      <td>1</td>\n",
              "      <td>0</td>\n",
              "      <td>A/5 21171</td>\n",
              "      <td>7.2500</td>\n",
              "      <td>NaN</td>\n",
              "      <td>S</td>\n",
              "    </tr>\n",
              "    <tr>\n",
              "      <th>4</th>\n",
              "      <td>5</td>\n",
              "      <td>0</td>\n",
              "      <td>3</td>\n",
              "      <td>Allen, Mr. William Henry</td>\n",
              "      <td>male</td>\n",
              "      <td>35.0</td>\n",
              "      <td>0</td>\n",
              "      <td>0</td>\n",
              "      <td>373450</td>\n",
              "      <td>8.0500</td>\n",
              "      <td>NaN</td>\n",
              "      <td>S</td>\n",
              "    </tr>\n",
              "    <tr>\n",
              "      <th>5</th>\n",
              "      <td>6</td>\n",
              "      <td>0</td>\n",
              "      <td>3</td>\n",
              "      <td>Moran, Mr. James</td>\n",
              "      <td>male</td>\n",
              "      <td>NaN</td>\n",
              "      <td>0</td>\n",
              "      <td>0</td>\n",
              "      <td>330877</td>\n",
              "      <td>8.4583</td>\n",
              "      <td>NaN</td>\n",
              "      <td>Q</td>\n",
              "    </tr>\n",
              "  </tbody>\n",
              "</table>\n",
              "</div>"
            ],
            "text/plain": [
              "   PassengerId Survived Pclass                      Name   Sex   Age  \\\n",
              "0            1        0      3   Braund, Mr. Owen Harris  male  22.0   \n",
              "4            5        0      3  Allen, Mr. William Henry  male  35.0   \n",
              "5            6        0      3          Moran, Mr. James  male   NaN   \n",
              "\n",
              "  SiblingsSpouses ParentsChildren     Ticket    Fare Cabin Embarked  \n",
              "0               1               0  A/5 21171  7.2500   NaN        S  \n",
              "4               0               0     373450  8.0500   NaN        S  \n",
              "5               0               0     330877  8.4583   NaN        Q  "
            ]
          },
          "metadata": {
            "tags": []
          },
          "execution_count": 23
        }
      ]
    },
    {
      "metadata": {
        "id": "5scA8VF1oFS-",
        "colab_type": "code",
        "colab": {
          "base_uri": "https://localhost:8080/",
          "height": 210
        },
        "outputId": "3f3158ed-042d-4443-ed7e-c9895854b649"
      },
      "cell_type": "code",
      "source": [
        "# Previews the female dataframe.\n",
        "tr_female.head(3)"
      ],
      "execution_count": 24,
      "outputs": [
        {
          "output_type": "execute_result",
          "data": {
            "text/html": [
              "<div>\n",
              "<style scoped>\n",
              "    .dataframe tbody tr th:only-of-type {\n",
              "        vertical-align: middle;\n",
              "    }\n",
              "\n",
              "    .dataframe tbody tr th {\n",
              "        vertical-align: top;\n",
              "    }\n",
              "\n",
              "    .dataframe thead th {\n",
              "        text-align: right;\n",
              "    }\n",
              "</style>\n",
              "<table border=\"1\" class=\"dataframe\">\n",
              "  <thead>\n",
              "    <tr style=\"text-align: right;\">\n",
              "      <th></th>\n",
              "      <th>PassengerId</th>\n",
              "      <th>Survived</th>\n",
              "      <th>Pclass</th>\n",
              "      <th>Name</th>\n",
              "      <th>Sex</th>\n",
              "      <th>Age</th>\n",
              "      <th>SiblingsSpouses</th>\n",
              "      <th>ParentsChildren</th>\n",
              "      <th>Ticket</th>\n",
              "      <th>Fare</th>\n",
              "      <th>Cabin</th>\n",
              "      <th>Embarked</th>\n",
              "    </tr>\n",
              "  </thead>\n",
              "  <tbody>\n",
              "    <tr>\n",
              "      <th>1</th>\n",
              "      <td>2</td>\n",
              "      <td>1</td>\n",
              "      <td>1</td>\n",
              "      <td>Cumings, Mrs. John Bradley (Florence Briggs Th...</td>\n",
              "      <td>female</td>\n",
              "      <td>38.0</td>\n",
              "      <td>1</td>\n",
              "      <td>0</td>\n",
              "      <td>PC 17599</td>\n",
              "      <td>71.2833</td>\n",
              "      <td>C85</td>\n",
              "      <td>C</td>\n",
              "    </tr>\n",
              "    <tr>\n",
              "      <th>2</th>\n",
              "      <td>3</td>\n",
              "      <td>1</td>\n",
              "      <td>3</td>\n",
              "      <td>Heikkinen, Miss. Laina</td>\n",
              "      <td>female</td>\n",
              "      <td>26.0</td>\n",
              "      <td>0</td>\n",
              "      <td>0</td>\n",
              "      <td>STON/O2. 3101282</td>\n",
              "      <td>7.9250</td>\n",
              "      <td>NaN</td>\n",
              "      <td>S</td>\n",
              "    </tr>\n",
              "    <tr>\n",
              "      <th>3</th>\n",
              "      <td>4</td>\n",
              "      <td>1</td>\n",
              "      <td>1</td>\n",
              "      <td>Futrelle, Mrs. Jacques Heath (Lily May Peel)</td>\n",
              "      <td>female</td>\n",
              "      <td>35.0</td>\n",
              "      <td>1</td>\n",
              "      <td>0</td>\n",
              "      <td>113803</td>\n",
              "      <td>53.1000</td>\n",
              "      <td>C123</td>\n",
              "      <td>S</td>\n",
              "    </tr>\n",
              "  </tbody>\n",
              "</table>\n",
              "</div>"
            ],
            "text/plain": [
              "   PassengerId Survived Pclass  \\\n",
              "1            2        1      1   \n",
              "2            3        1      3   \n",
              "3            4        1      1   \n",
              "\n",
              "                                                Name     Sex   Age  \\\n",
              "1  Cumings, Mrs. John Bradley (Florence Briggs Th...  female  38.0   \n",
              "2                             Heikkinen, Miss. Laina  female  26.0   \n",
              "3       Futrelle, Mrs. Jacques Heath (Lily May Peel)  female  35.0   \n",
              "\n",
              "  SiblingsSpouses ParentsChildren            Ticket     Fare Cabin Embarked  \n",
              "1               1               0          PC 17599  71.2833   C85        C  \n",
              "2               0               0  STON/O2. 3101282   7.9250   NaN        S  \n",
              "3               1               0            113803  53.1000  C123        S  "
            ]
          },
          "metadata": {
            "tags": []
          },
          "execution_count": 24
        }
      ]
    },
    {
      "metadata": {
        "id": "8yLV3OsC331n",
        "colab_type": "text"
      },
      "cell_type": "markdown",
      "source": [
        "Let's create a method to replace null values of a given column with the column's average. First, find average for the Age column.\n",
        "\n",
        "Pretty simple:"
      ]
    },
    {
      "metadata": {
        "id": "2QtxQvxSxTfB",
        "colab_type": "code",
        "colab": {
          "base_uri": "https://localhost:8080/",
          "height": 34
        },
        "outputId": "dafbdcf0-70a3-45f0-97c0-c8080b33534d"
      },
      "cell_type": "code",
      "source": [
        "tr_male[\"Age\"].mean()"
      ],
      "execution_count": 25,
      "outputs": [
        {
          "output_type": "execute_result",
          "data": {
            "text/plain": [
              "30.72664459161148"
            ]
          },
          "metadata": {
            "tags": []
          },
          "execution_count": 25
        }
      ]
    },
    {
      "metadata": {
        "id": "H1-8GdTP4Azc",
        "colab_type": "text"
      },
      "cell_type": "markdown",
      "source": [
        "Now, replace null values with that average. There's a function for that:\n",
        "\n",
        ".fillna(value, inplace = boolean)\n",
        "\n",
        "\n",
        "inplace changes whether the data is replaced in its place or in a newly created/returned DataFrame. Defaults to False."
      ]
    },
    {
      "metadata": {
        "id": "L-V83NyUoFTC",
        "colab_type": "code",
        "colab": {}
      },
      "cell_type": "code",
      "source": [
        "def fixNulls(colName, df):\n",
        "    \"\"\"\n",
        "    Replaces null values in a given column with the average of the column. Returns fixed dataframe.\n",
        "    \n",
        "    Parameters\n",
        "    ----------\n",
        "    colName : String\n",
        "        The name of the column to fix.\n",
        "    df : pandas DataFrame\n",
        "        The dataframe to be altered.\n",
        "    \"\"\"\n",
        "    average = df[colName].mean()\n",
        "    # Puts the replacements directly into the dataframe.\n",
        "    values = {colName : average}\n",
        "    df.fillna(value = values, inplace=True)\n",
        "    return df"
      ],
      "execution_count": 0,
      "outputs": []
    },
    {
      "metadata": {
        "id": "65NOLV2koFTE",
        "colab_type": "code",
        "colab": {
          "base_uri": "https://localhost:8080/",
          "height": 204
        },
        "outputId": "6d4ad61e-7c91-462b-cc3f-fb6f4ed338ef"
      },
      "cell_type": "code",
      "source": [
        "# Previews the male dataframe's \"Age\" column before null fixing.\n",
        "tr_male.loc[:, \"Age\"].head(10)"
      ],
      "execution_count": 27,
      "outputs": [
        {
          "output_type": "execute_result",
          "data": {
            "text/plain": [
              "0     22.0\n",
              "4     35.0\n",
              "5      NaN\n",
              "6     54.0\n",
              "7      2.0\n",
              "12    20.0\n",
              "13    39.0\n",
              "16     2.0\n",
              "17     NaN\n",
              "20    35.0\n",
              "Name: Age, dtype: float64"
            ]
          },
          "metadata": {
            "tags": []
          },
          "execution_count": 27
        }
      ]
    },
    {
      "metadata": {
        "id": "6pKq19SYoFTI",
        "colab_type": "code",
        "colab": {
          "base_uri": "https://localhost:8080/",
          "height": 102
        },
        "outputId": "53659ec8-df61-4b3d-fc66-8eaae6fecd5c"
      },
      "cell_type": "code",
      "source": [
        "tr_male = fixNulls(\"Age\", tr_male)\n",
        "tr_female = fixNulls(\"Age\", tr_female)"
      ],
      "execution_count": 28,
      "outputs": [
        {
          "output_type": "stream",
          "text": [
            "/usr/local/lib/python3.6/dist-packages/pandas/core/generic.py:4355: SettingWithCopyWarning: \n",
            "A value is trying to be set on a copy of a slice from a DataFrame\n",
            "\n",
            "See the caveats in the documentation: http://pandas.pydata.org/pandas-docs/stable/indexing.html#indexing-view-versus-copy\n",
            "  self._update_inplace(new_data)\n"
          ],
          "name": "stderr"
        }
      ]
    },
    {
      "metadata": {
        "id": "2ryR90jt6OHS",
        "colab_type": "text"
      },
      "cell_type": "markdown",
      "source": [
        "DISCLAIMER: The error here is a bit strange because I edited my syntax in the method to exactly what they suggest in the section linked in the error message, and this still complains. Don't blame me, the method still works."
      ]
    },
    {
      "metadata": {
        "id": "RYfADWb5oFTO",
        "colab_type": "code",
        "colab": {
          "base_uri": "https://localhost:8080/",
          "height": 204
        },
        "outputId": "9c68e75e-8b39-47e2-fbb3-c6ac0c69772e"
      },
      "cell_type": "code",
      "source": [
        "# Shows the male dataframe's \"Age\" column after null fixing.\n",
        "tr_male.loc[:, \"Age\"].head(10)"
      ],
      "execution_count": 29,
      "outputs": [
        {
          "output_type": "execute_result",
          "data": {
            "text/plain": [
              "0     22.000000\n",
              "4     35.000000\n",
              "5     30.726645\n",
              "6     54.000000\n",
              "7      2.000000\n",
              "12    20.000000\n",
              "13    39.000000\n",
              "16     2.000000\n",
              "17    30.726645\n",
              "20    35.000000\n",
              "Name: Age, dtype: float64"
            ]
          },
          "metadata": {
            "tags": []
          },
          "execution_count": 29
        }
      ]
    },
    {
      "metadata": {
        "id": "WBTMeI4loFTU",
        "colab_type": "code",
        "colab": {}
      },
      "cell_type": "code",
      "source": [
        "# Recombines the male and female dataframes back into a single dataframe.\n",
        "tr = tr_male.append(tr_female)"
      ],
      "execution_count": 0,
      "outputs": []
    },
    {
      "metadata": {
        "id": "R2mVChsx60MV",
        "colab_type": "text"
      },
      "cell_type": "markdown",
      "source": [
        "## How Do We Use Our Data?\n",
        "So we've seen how we can slice, fix up, and analyze our data a bit. We could certainly do a lot more, but at the end of the day, how do we determine which features are important in determining whether or not someone died on the Titanic?\n",
        "\n",
        "First, some context on decision trees: https://bit.ly/DecTrees\n",
        "\n",
        "And then Information Theory: https://bit.ly/InformationTheory\n",
        "\n",
        "\n",
        "So we want to be able to calculate the Gini score of a split, merely to demonstrate which\n",
        "splits are actually useful or not. Gini score can be calculated by:\n",
        "\n",
        "$\\sum_{k=0}^{classes}(p_{k}\\times(1-p_{k})).$\n",
        "\n",
        "$m$ classes, $p_{k}$ is the proportion of same class inputs present in a particular group."
      ]
    },
    {
      "metadata": {
        "id": "xkXpypmToFTb",
        "colab_type": "code",
        "colab": {}
      },
      "cell_type": "code",
      "source": [
        "def split(col, df):\n",
        "    \"\"\"\n",
        "    Splits a dataframe into sets based on the given categorical column.\n",
        "    \n",
        "    Parameters\n",
        "    ----------\n",
        "    feature : String\n",
        "        The feature for dataframe to be split on.\n",
        "    df : pandas DataFrame\n",
        "        The dataframe to be altered.\n",
        "    \"\"\"\n",
        "    groups = df[col].cat.categories\n",
        "    categoryNum = len(groups)\n",
        "    output = [] # Will be a \n",
        "    for i in range(categoryNum): # For each of the categories of the feature given:\n",
        "        currentCategorySeries = df[col] == groups[i]\n",
        "        output.append(df[currentCategorySeries]) # Append the df of the rows where the internal condition is true.\n",
        "    return output"
      ],
      "execution_count": 0,
      "outputs": []
    },
    {
      "metadata": {
        "id": "_PNHVfOOoFTi",
        "colab_type": "code",
        "colab": {}
      },
      "cell_type": "code",
      "source": [
        "def giniScore(splitData):\n",
        "    \"\"\"\n",
        "    Takes a set of dataframes following some split over one of the features. Returns the split's Gini score.\n",
        "    \n",
        "    Parameters\n",
        "    ----------\n",
        "    splitData : set of pandas DataFrames\n",
        "        The set resulting from a split whose Gini score we're calculating.\n",
        "    \"\"\"\n",
        "    length = len(splitData)\n",
        "    total = 0\n",
        "    for i in range(length): # Sums over each of the classes.\n",
        "        df = splitData[i]   # The DataFrame of observations of a given class.\n",
        "        totalPpl = len(df)  # The number of examples (people) in the dataframe is its length.\n",
        "        survived = len(df[df[\"Survived\"] == 1]) # The number of people whose \"Survived\" was 1. These people lived.\n",
        "        pk = float(survived) / float(totalPpl)  # The probability of this person having survived in this class.\n",
        "        total += pk * (1. - pk)\n",
        "    return total"
      ],
      "execution_count": 0,
      "outputs": []
    },
    {
      "metadata": {
        "id": "4Zr4Qp3CoFTp",
        "colab_type": "code",
        "colab": {
          "base_uri": "https://localhost:8080/",
          "height": 119
        },
        "outputId": "03973ebc-408b-4795-d9f2-502985542854"
      },
      "cell_type": "code",
      "source": [
        "# Shows the Gini score of each categorical column.\n",
        "preview = \"\"\n",
        "for i in range(len(categories)): # Recall that we created a list of the 5 categorical columns' names.\n",
        "    col = categories[i]          # Get the name of this column.\n",
        "    splitList = split(col, tr)   # This will be a list of DataFrames each containing observations of a given category in this column\n",
        "    gini = giniScore(splitList)  # \n",
        "    preview = preview + str(col) + \": \" + str(gini) + \"\\n\"\n",
        "print(preview)"
      ],
      "execution_count": 33,
      "outputs": [
        {
          "output_type": "stream",
          "text": [
            "Sex: 0.34463935983810007\n",
            "Survived: 0.0\n",
            "Pclass: 0.6660806692837389\n",
            "SiblingsSpouses: 1.0499228460447578\n",
            "ParentsChildren: 1.1229716579017808\n",
            "\n"
          ],
          "name": "stdout"
        }
      ]
    },
    {
      "metadata": {
        "id": "TizRwFluoFTv",
        "colab_type": "code",
        "colab": {
          "base_uri": "https://localhost:8080/",
          "height": 34
        },
        "outputId": "8e12e285-a37a-4c5b-b5ee-d928b0930d9e"
      },
      "cell_type": "code",
      "source": [
        "# Demonstrates that the methods I've made give a pure Gini score for a pure split.\n",
        "giniScore(split(\"Survived\", tr))"
      ],
      "execution_count": 34,
      "outputs": [
        {
          "output_type": "execute_result",
          "data": {
            "text/plain": [
              "0.0"
            ]
          },
          "metadata": {
            "tags": []
          },
          "execution_count": 34
        }
      ]
    },
    {
      "metadata": {
        "id": "BF2xfJLcoFT2",
        "colab_type": "code",
        "colab": {}
      },
      "cell_type": "code",
      "source": [
        "class DecisionTree:\n",
        "    \"\"\"\n",
        "    A decision tree splits a dataset into subsets of data, working to create pure subsets. By following the same set\n",
        "    of splits, one can classify new data put through the decision tree.\n",
        "    \"\"\"\n",
        "    # Homework..."
      ],
      "execution_count": 0,
      "outputs": []
    },
    {
      "metadata": {
        "id": "uLVKOisIFAl0",
        "colab_type": "code",
        "colab": {}
      },
      "cell_type": "code",
      "source": [
        ""
      ],
      "execution_count": 0,
      "outputs": []
    }
  ]
}