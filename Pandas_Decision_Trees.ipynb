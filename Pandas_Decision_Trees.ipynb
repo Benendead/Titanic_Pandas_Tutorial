{
  "nbformat": 4,
  "nbformat_minor": 0,
  "metadata": {
    "colab": {
      "name": "Pandas_Decision_Trees",
      "version": "0.3.2",
      "provenance": [],
      "collapsed_sections": []
    },
    "kernelspec": {
      "name": "python3",
      "display_name": "Python 3"
    },
    "accelerator": "GPU"
  },
  "cells": [
    {
      "metadata": {
        "id": "YT0IkrlxFCz1",
        "colab_type": "text"
      },
      "cell_type": "markdown",
      "source": [
        "# Processing Data for Decision Trees in Pandas\n",
        "By Benned Hedegaard\n",
        "\n",
        "[![Open In Colab](https://colab.research.google.com/assets/colab-badge.svg)](https://colab.research.google.com/drive/12z93hzXqv5MPtUNb_BjD-GF0vfr5iwOI)\n",
        "\n",
        "We'll use Kaggle's Titanic dataset to learn how to analyze, reformat, categorize, and slice data in Pandas DataFrames. We'll also delve a bit into the intuitions behind decision trees and some information theory. Note: We will NOT get to implementing decision trees themselves. That said, most of the tools and math to do this are explained/implemented in this Notebook.\n",
        "\n",
        "[Link to the Kaggle competition](https://www.kaggle.com/c/titanic)"
      ]
    },
    {
      "metadata": {
        "id": "EKLI4buZuPVY",
        "colab_type": "text"
      },
      "cell_type": "markdown",
      "source": [
        "## Importing Data"
      ]
    },
    {
      "metadata": {
        "id": "qKhMSJHKoFST",
        "colab_type": "code",
        "colab": {}
      },
      "cell_type": "code",
      "source": [
        "import pandas as pd\n",
        "import numpy as np\n",
        "# import matplotlib.pyplot as plt Not used yet..."
      ],
      "execution_count": 0,
      "outputs": []
    },
    {
      "metadata": {
        "id": "2ekvhE-RoKYR",
        "colab_type": "code",
        "outputId": "93da69d2-2643-4178-f4bf-b247ec159f2f",
        "colab": {
          "base_uri": "https://localhost:8080/",
          "height": 119
        }
      },
      "cell_type": "code",
      "source": [
        "# Import the datasets from my GitHub\n",
        "!git clone https://github.com/Benendead/Titanic_Pandas_Tutorial"
      ],
      "execution_count": 2,
      "outputs": [
        {
          "output_type": "stream",
          "text": [
            "Cloning into 'Titanic_Pandas_Tutorial'...\n",
            "remote: Enumerating objects: 20, done.\u001b[K\n",
            "remote: Counting objects: 100% (20/20), done.\u001b[K\n",
            "remote: Compressing objects: 100% (19/19), done.\u001b[K\n",
            "remote: Total 20 (delta 6), reused 0 (delta 0), pack-reused 0\u001b[K\n",
            "Unpacking objects: 100% (20/20), done.\n"
          ],
          "name": "stdout"
        }
      ]
    },
    {
      "metadata": {
        "id": "pJ_uBadJoiEe",
        "colab_type": "code",
        "outputId": "dc8e7f6e-82d4-48f9-8c26-89c046cccea8",
        "colab": {
          "base_uri": "https://localhost:8080/",
          "height": 34
        }
      },
      "cell_type": "code",
      "source": [
        "# Look at where our data is.\n",
        "!ls Titanic_Pandas_Tutorial/Data"
      ],
      "execution_count": 3,
      "outputs": [
        {
          "output_type": "stream",
          "text": [
            "test.csv  train.csv\n"
          ],
          "name": "stdout"
        }
      ]
    },
    {
      "metadata": {
        "id": "AnVxmBrFo1Vg",
        "colab_type": "code",
        "outputId": "526576d1-7b97-45d2-c1d4-14a84674cc7a",
        "colab": {
          "base_uri": "https://localhost:8080/",
          "height": 142
        }
      },
      "cell_type": "code",
      "source": [
        "# Read in our training dataset and give a preview of its contents.\n",
        "tr = pd.read_csv(\"Titanic_Pandas_Tutorial/Data/train.csv\")\n",
        "tr.head(3) # Previews first 3 rows of the DataFrame."
      ],
      "execution_count": 4,
      "outputs": [
        {
          "output_type": "execute_result",
          "data": {
            "text/html": [
              "<div>\n",
              "<style scoped>\n",
              "    .dataframe tbody tr th:only-of-type {\n",
              "        vertical-align: middle;\n",
              "    }\n",
              "\n",
              "    .dataframe tbody tr th {\n",
              "        vertical-align: top;\n",
              "    }\n",
              "\n",
              "    .dataframe thead th {\n",
              "        text-align: right;\n",
              "    }\n",
              "</style>\n",
              "<table border=\"1\" class=\"dataframe\">\n",
              "  <thead>\n",
              "    <tr style=\"text-align: right;\">\n",
              "      <th></th>\n",
              "      <th>PassengerId</th>\n",
              "      <th>Survived</th>\n",
              "      <th>Pclass</th>\n",
              "      <th>Name</th>\n",
              "      <th>Sex</th>\n",
              "      <th>Age</th>\n",
              "      <th>SibSp</th>\n",
              "      <th>Parch</th>\n",
              "      <th>Ticket</th>\n",
              "      <th>Fare</th>\n",
              "      <th>Cabin</th>\n",
              "      <th>Embarked</th>\n",
              "    </tr>\n",
              "  </thead>\n",
              "  <tbody>\n",
              "    <tr>\n",
              "      <th>0</th>\n",
              "      <td>1</td>\n",
              "      <td>0</td>\n",
              "      <td>3</td>\n",
              "      <td>Braund, Mr. Owen Harris</td>\n",
              "      <td>male</td>\n",
              "      <td>22.0</td>\n",
              "      <td>1</td>\n",
              "      <td>0</td>\n",
              "      <td>A/5 21171</td>\n",
              "      <td>7.2500</td>\n",
              "      <td>NaN</td>\n",
              "      <td>S</td>\n",
              "    </tr>\n",
              "    <tr>\n",
              "      <th>1</th>\n",
              "      <td>2</td>\n",
              "      <td>1</td>\n",
              "      <td>1</td>\n",
              "      <td>Cumings, Mrs. John Bradley (Florence Briggs Th...</td>\n",
              "      <td>female</td>\n",
              "      <td>38.0</td>\n",
              "      <td>1</td>\n",
              "      <td>0</td>\n",
              "      <td>PC 17599</td>\n",
              "      <td>71.2833</td>\n",
              "      <td>C85</td>\n",
              "      <td>C</td>\n",
              "    </tr>\n",
              "    <tr>\n",
              "      <th>2</th>\n",
              "      <td>3</td>\n",
              "      <td>1</td>\n",
              "      <td>3</td>\n",
              "      <td>Heikkinen, Miss. Laina</td>\n",
              "      <td>female</td>\n",
              "      <td>26.0</td>\n",
              "      <td>0</td>\n",
              "      <td>0</td>\n",
              "      <td>STON/O2. 3101282</td>\n",
              "      <td>7.9250</td>\n",
              "      <td>NaN</td>\n",
              "      <td>S</td>\n",
              "    </tr>\n",
              "  </tbody>\n",
              "</table>\n",
              "</div>"
            ],
            "text/plain": [
              "   PassengerId  Survived  Pclass  \\\n",
              "0            1         0       3   \n",
              "1            2         1       1   \n",
              "2            3         1       3   \n",
              "\n",
              "                                                Name     Sex   Age  SibSp  \\\n",
              "0                            Braund, Mr. Owen Harris    male  22.0      1   \n",
              "1  Cumings, Mrs. John Bradley (Florence Briggs Th...  female  38.0      1   \n",
              "2                             Heikkinen, Miss. Laina  female  26.0      0   \n",
              "\n",
              "   Parch            Ticket     Fare Cabin Embarked  \n",
              "0      0         A/5 21171   7.2500   NaN        S  \n",
              "1      0          PC 17599  71.2833   C85        C  \n",
              "2      0  STON/O2. 3101282   7.9250   NaN        S  "
            ]
          },
          "metadata": {
            "tags": []
          },
          "execution_count": 4
        }
      ]
    },
    {
      "metadata": {
        "id": "rsH9UCH3pIdA",
        "colab_type": "code",
        "outputId": "2c7a18a3-bf73-4467-a0e5-50496a08bb5c",
        "colab": {
          "base_uri": "https://localhost:8080/",
          "height": 34
        }
      },
      "cell_type": "code",
      "source": [
        "# We can see that the pd.read_csv gives us a DataFrame.\n",
        "type(tr)"
      ],
      "execution_count": 5,
      "outputs": [
        {
          "output_type": "execute_result",
          "data": {
            "text/plain": [
              "pandas.core.frame.DataFrame"
            ]
          },
          "metadata": {
            "tags": []
          },
          "execution_count": 5
        }
      ]
    },
    {
      "metadata": {
        "id": "pRv-MRWWNVa0",
        "colab_type": "code",
        "outputId": "f55fafc3-7530-49e7-d23c-fbec7548232f",
        "colab": {
          "base_uri": "https://localhost:8080/",
          "height": 34
        }
      },
      "cell_type": "code",
      "source": [
        "# Check the shape of our data so far.\n",
        "tr.shape"
      ],
      "execution_count": 6,
      "outputs": [
        {
          "output_type": "execute_result",
          "data": {
            "text/plain": [
              "(891, 12)"
            ]
          },
          "metadata": {
            "tags": []
          },
          "execution_count": 6
        }
      ]
    },
    {
      "metadata": {
        "id": "MBgDFnZrZT6e",
        "colab_type": "code",
        "outputId": "dcccb64e-291d-4904-dc04-736e987e382a",
        "colab": {
          "base_uri": "https://localhost:8080/",
          "height": 80
        }
      },
      "cell_type": "code",
      "source": [
        "# Just for kicks, let's cut off the Ticket column. I just wanted to show this method:\n",
        "tr.drop([\"Ticket\"], axis = 1, inplace = True) # Inplace means that this returns nothing.\n",
        "tr.head(1) # It worked."
      ],
      "execution_count": 7,
      "outputs": [
        {
          "output_type": "execute_result",
          "data": {
            "text/html": [
              "<div>\n",
              "<style scoped>\n",
              "    .dataframe tbody tr th:only-of-type {\n",
              "        vertical-align: middle;\n",
              "    }\n",
              "\n",
              "    .dataframe tbody tr th {\n",
              "        vertical-align: top;\n",
              "    }\n",
              "\n",
              "    .dataframe thead th {\n",
              "        text-align: right;\n",
              "    }\n",
              "</style>\n",
              "<table border=\"1\" class=\"dataframe\">\n",
              "  <thead>\n",
              "    <tr style=\"text-align: right;\">\n",
              "      <th></th>\n",
              "      <th>PassengerId</th>\n",
              "      <th>Survived</th>\n",
              "      <th>Pclass</th>\n",
              "      <th>Name</th>\n",
              "      <th>Sex</th>\n",
              "      <th>Age</th>\n",
              "      <th>SibSp</th>\n",
              "      <th>Parch</th>\n",
              "      <th>Fare</th>\n",
              "      <th>Cabin</th>\n",
              "      <th>Embarked</th>\n",
              "    </tr>\n",
              "  </thead>\n",
              "  <tbody>\n",
              "    <tr>\n",
              "      <th>0</th>\n",
              "      <td>1</td>\n",
              "      <td>0</td>\n",
              "      <td>3</td>\n",
              "      <td>Braund, Mr. Owen Harris</td>\n",
              "      <td>male</td>\n",
              "      <td>22.0</td>\n",
              "      <td>1</td>\n",
              "      <td>0</td>\n",
              "      <td>7.25</td>\n",
              "      <td>NaN</td>\n",
              "      <td>S</td>\n",
              "    </tr>\n",
              "  </tbody>\n",
              "</table>\n",
              "</div>"
            ],
            "text/plain": [
              "   PassengerId  Survived  Pclass                     Name   Sex   Age  SibSp  \\\n",
              "0            1         0       3  Braund, Mr. Owen Harris  male  22.0      1   \n",
              "\n",
              "   Parch  Fare Cabin Embarked  \n",
              "0      0  7.25   NaN        S  "
            ]
          },
          "metadata": {
            "tags": []
          },
          "execution_count": 7
        }
      ]
    },
    {
      "metadata": {
        "id": "80SGxt77MZ_5",
        "colab_type": "text"
      },
      "cell_type": "markdown",
      "source": [
        "### Some Basic Pandas Terms\n",
        "DataFrame - The primary data structure of Pandas. Allows us to store labeled columns of varying types in one structure.\n",
        "\n",
        "Index - The row labels in a DataFrame.\n",
        "\n",
        "Series - The second data structure of Pandas. Like one column of a DataFrame.\n",
        "\n",
        "A useful reference cheatsheet:\n",
        "https://assets.datacamp.com/blog_assets/PandasPythonForDataScience.pdf\n",
        "\n",
        "And one for data wrangling:\n",
        "https://github.com/pandas-dev/pandas/blob/master/doc/cheatsheet/Pandas_Cheat_Sheet.pdf"
      ]
    },
    {
      "metadata": {
        "id": "YzMWvrPtuUsA",
        "colab_type": "text"
      },
      "cell_type": "markdown",
      "source": [
        "## Analyzing Our Data"
      ]
    },
    {
      "metadata": {
        "id": "j51pI3n9oFSf",
        "colab_type": "code",
        "outputId": "b477d53d-1a76-4182-d7fc-8a604c497ebb",
        "colab": {
          "base_uri": "https://localhost:8080/",
          "height": 289
        }
      },
      "cell_type": "code",
      "source": [
        "\"\"\"\n",
        "Survey the variables we have for each person.\n",
        "\n",
        "PassengerId - Unique identifiers for each passenger.\n",
        "Survived - If the passenger survived. 0 = No, 1 = Yes\n",
        "Pclass - Ticket class. 1 = 1st, 2 = 2nd, 3 = 3rd\n",
        "Name - Name of the passenger. String\n",
        "Sex - Sex of the passenger. \"male\" or \"female\"\n",
        "Age - Age of the passenger. Integer\n",
        "SibSp - # of siblings/spouses passenger had on board. Integer\n",
        "Parch - # of parents/children passenger had on board. Integer\n",
        "Ticket - Ticket number. String\n",
        "Fare - Passenger's fare. Float\n",
        "Cabin - Cabin number. String\n",
        "Embarked - Port of embarkation. \n",
        "        C = Cherbourg, Q = Queenstown, S = Southampton\n",
        "\"\"\"\n",
        "\n",
        "tr.info()"
      ],
      "execution_count": 8,
      "outputs": [
        {
          "output_type": "stream",
          "text": [
            "<class 'pandas.core.frame.DataFrame'>\n",
            "RangeIndex: 891 entries, 0 to 890\n",
            "Data columns (total 11 columns):\n",
            "PassengerId    891 non-null int64\n",
            "Survived       891 non-null int64\n",
            "Pclass         891 non-null int64\n",
            "Name           891 non-null object\n",
            "Sex            891 non-null object\n",
            "Age            714 non-null float64\n",
            "SibSp          891 non-null int64\n",
            "Parch          891 non-null int64\n",
            "Fare           891 non-null float64\n",
            "Cabin          204 non-null object\n",
            "Embarked       889 non-null object\n",
            "dtypes: float64(2), int64(5), object(4)\n",
            "memory usage: 76.6+ KB\n"
          ],
          "name": "stdout"
        }
      ]
    },
    {
      "metadata": {
        "id": "n1qoKvJfrLJy",
        "colab_type": "code",
        "colab": {}
      },
      "cell_type": "code",
      "source": [
        "# These column names are unclear. Let's fix that.\n",
        "tr = tr.rename(index = str, columns = {\"SibSp\": \"SiblingsSpouses\", \"Parch\": \"ParentsChildren\"}) # Returns the renamed dataframe.\n",
        "\n",
        "# Notice the lack of inplace."
      ],
      "execution_count": 0,
      "outputs": []
    },
    {
      "metadata": {
        "id": "AeXm1o4JoFSk",
        "colab_type": "code",
        "outputId": "a6968b27-3880-4c15-a578-1f07b91f18b2",
        "colab": {
          "base_uri": "https://localhost:8080/",
          "height": 297
        }
      },
      "cell_type": "code",
      "source": [
        "# Survey some information about the numerical variables.\n",
        "tr.describe() # Method of the DataFrame class"
      ],
      "execution_count": 10,
      "outputs": [
        {
          "output_type": "execute_result",
          "data": {
            "text/html": [
              "<div>\n",
              "<style scoped>\n",
              "    .dataframe tbody tr th:only-of-type {\n",
              "        vertical-align: middle;\n",
              "    }\n",
              "\n",
              "    .dataframe tbody tr th {\n",
              "        vertical-align: top;\n",
              "    }\n",
              "\n",
              "    .dataframe thead th {\n",
              "        text-align: right;\n",
              "    }\n",
              "</style>\n",
              "<table border=\"1\" class=\"dataframe\">\n",
              "  <thead>\n",
              "    <tr style=\"text-align: right;\">\n",
              "      <th></th>\n",
              "      <th>PassengerId</th>\n",
              "      <th>Survived</th>\n",
              "      <th>Pclass</th>\n",
              "      <th>Age</th>\n",
              "      <th>SiblingsSpouses</th>\n",
              "      <th>ParentsChildren</th>\n",
              "      <th>Fare</th>\n",
              "    </tr>\n",
              "  </thead>\n",
              "  <tbody>\n",
              "    <tr>\n",
              "      <th>count</th>\n",
              "      <td>891.000000</td>\n",
              "      <td>891.000000</td>\n",
              "      <td>891.000000</td>\n",
              "      <td>714.000000</td>\n",
              "      <td>891.000000</td>\n",
              "      <td>891.000000</td>\n",
              "      <td>891.000000</td>\n",
              "    </tr>\n",
              "    <tr>\n",
              "      <th>mean</th>\n",
              "      <td>446.000000</td>\n",
              "      <td>0.383838</td>\n",
              "      <td>2.308642</td>\n",
              "      <td>29.699118</td>\n",
              "      <td>0.523008</td>\n",
              "      <td>0.381594</td>\n",
              "      <td>32.204208</td>\n",
              "    </tr>\n",
              "    <tr>\n",
              "      <th>std</th>\n",
              "      <td>257.353842</td>\n",
              "      <td>0.486592</td>\n",
              "      <td>0.836071</td>\n",
              "      <td>14.526497</td>\n",
              "      <td>1.102743</td>\n",
              "      <td>0.806057</td>\n",
              "      <td>49.693429</td>\n",
              "    </tr>\n",
              "    <tr>\n",
              "      <th>min</th>\n",
              "      <td>1.000000</td>\n",
              "      <td>0.000000</td>\n",
              "      <td>1.000000</td>\n",
              "      <td>0.420000</td>\n",
              "      <td>0.000000</td>\n",
              "      <td>0.000000</td>\n",
              "      <td>0.000000</td>\n",
              "    </tr>\n",
              "    <tr>\n",
              "      <th>25%</th>\n",
              "      <td>223.500000</td>\n",
              "      <td>0.000000</td>\n",
              "      <td>2.000000</td>\n",
              "      <td>20.125000</td>\n",
              "      <td>0.000000</td>\n",
              "      <td>0.000000</td>\n",
              "      <td>7.910400</td>\n",
              "    </tr>\n",
              "    <tr>\n",
              "      <th>50%</th>\n",
              "      <td>446.000000</td>\n",
              "      <td>0.000000</td>\n",
              "      <td>3.000000</td>\n",
              "      <td>28.000000</td>\n",
              "      <td>0.000000</td>\n",
              "      <td>0.000000</td>\n",
              "      <td>14.454200</td>\n",
              "    </tr>\n",
              "    <tr>\n",
              "      <th>75%</th>\n",
              "      <td>668.500000</td>\n",
              "      <td>1.000000</td>\n",
              "      <td>3.000000</td>\n",
              "      <td>38.000000</td>\n",
              "      <td>1.000000</td>\n",
              "      <td>0.000000</td>\n",
              "      <td>31.000000</td>\n",
              "    </tr>\n",
              "    <tr>\n",
              "      <th>max</th>\n",
              "      <td>891.000000</td>\n",
              "      <td>1.000000</td>\n",
              "      <td>3.000000</td>\n",
              "      <td>80.000000</td>\n",
              "      <td>8.000000</td>\n",
              "      <td>6.000000</td>\n",
              "      <td>512.329200</td>\n",
              "    </tr>\n",
              "  </tbody>\n",
              "</table>\n",
              "</div>"
            ],
            "text/plain": [
              "       PassengerId    Survived      Pclass         Age  SiblingsSpouses  \\\n",
              "count   891.000000  891.000000  891.000000  714.000000       891.000000   \n",
              "mean    446.000000    0.383838    2.308642   29.699118         0.523008   \n",
              "std     257.353842    0.486592    0.836071   14.526497         1.102743   \n",
              "min       1.000000    0.000000    1.000000    0.420000         0.000000   \n",
              "25%     223.500000    0.000000    2.000000   20.125000         0.000000   \n",
              "50%     446.000000    0.000000    3.000000   28.000000         0.000000   \n",
              "75%     668.500000    1.000000    3.000000   38.000000         1.000000   \n",
              "max     891.000000    1.000000    3.000000   80.000000         8.000000   \n",
              "\n",
              "       ParentsChildren        Fare  \n",
              "count       891.000000  891.000000  \n",
              "mean          0.381594   32.204208  \n",
              "std           0.806057   49.693429  \n",
              "min           0.000000    0.000000  \n",
              "25%           0.000000    7.910400  \n",
              "50%           0.000000   14.454200  \n",
              "75%           0.000000   31.000000  \n",
              "max           6.000000  512.329200  "
            ]
          },
          "metadata": {
            "tags": []
          },
          "execution_count": 10
        }
      ]
    },
    {
      "metadata": {
        "id": "maQlRzR2pY4i",
        "colab_type": "text"
      },
      "cell_type": "markdown",
      "source": [
        "Observations:\n",
        "* We have 891 of all numerical features except age. We'll need to fix that.\n",
        "* What percentage of people survived?\n",
        "* What was the age of the oldest person?"
      ]
    },
    {
      "metadata": {
        "id": "ych8ZJ-yoFSn",
        "colab_type": "code",
        "outputId": "592493c1-1fc5-4a76-ce33-5c6bed50b8ed",
        "colab": {
          "base_uri": "https://localhost:8080/",
          "height": 142
        }
      },
      "cell_type": "code",
      "source": [
        "# We noticed that the Age category was missing some values. Let's check for null values across the DataFrame.\n",
        "nulls = tr.isna() # Gives a dataframe of booleans showing which values in the training set are null.\n",
        "nulls.head(3)\n",
        "# We could use this later, maybe."
      ],
      "execution_count": 11,
      "outputs": [
        {
          "output_type": "execute_result",
          "data": {
            "text/html": [
              "<div>\n",
              "<style scoped>\n",
              "    .dataframe tbody tr th:only-of-type {\n",
              "        vertical-align: middle;\n",
              "    }\n",
              "\n",
              "    .dataframe tbody tr th {\n",
              "        vertical-align: top;\n",
              "    }\n",
              "\n",
              "    .dataframe thead th {\n",
              "        text-align: right;\n",
              "    }\n",
              "</style>\n",
              "<table border=\"1\" class=\"dataframe\">\n",
              "  <thead>\n",
              "    <tr style=\"text-align: right;\">\n",
              "      <th></th>\n",
              "      <th>PassengerId</th>\n",
              "      <th>Survived</th>\n",
              "      <th>Pclass</th>\n",
              "      <th>Name</th>\n",
              "      <th>Sex</th>\n",
              "      <th>Age</th>\n",
              "      <th>SiblingsSpouses</th>\n",
              "      <th>ParentsChildren</th>\n",
              "      <th>Fare</th>\n",
              "      <th>Cabin</th>\n",
              "      <th>Embarked</th>\n",
              "    </tr>\n",
              "  </thead>\n",
              "  <tbody>\n",
              "    <tr>\n",
              "      <th>0</th>\n",
              "      <td>False</td>\n",
              "      <td>False</td>\n",
              "      <td>False</td>\n",
              "      <td>False</td>\n",
              "      <td>False</td>\n",
              "      <td>False</td>\n",
              "      <td>False</td>\n",
              "      <td>False</td>\n",
              "      <td>False</td>\n",
              "      <td>True</td>\n",
              "      <td>False</td>\n",
              "    </tr>\n",
              "    <tr>\n",
              "      <th>1</th>\n",
              "      <td>False</td>\n",
              "      <td>False</td>\n",
              "      <td>False</td>\n",
              "      <td>False</td>\n",
              "      <td>False</td>\n",
              "      <td>False</td>\n",
              "      <td>False</td>\n",
              "      <td>False</td>\n",
              "      <td>False</td>\n",
              "      <td>False</td>\n",
              "      <td>False</td>\n",
              "    </tr>\n",
              "    <tr>\n",
              "      <th>2</th>\n",
              "      <td>False</td>\n",
              "      <td>False</td>\n",
              "      <td>False</td>\n",
              "      <td>False</td>\n",
              "      <td>False</td>\n",
              "      <td>False</td>\n",
              "      <td>False</td>\n",
              "      <td>False</td>\n",
              "      <td>False</td>\n",
              "      <td>True</td>\n",
              "      <td>False</td>\n",
              "    </tr>\n",
              "  </tbody>\n",
              "</table>\n",
              "</div>"
            ],
            "text/plain": [
              "   PassengerId  Survived  Pclass   Name    Sex    Age  SiblingsSpouses  \\\n",
              "0        False     False   False  False  False  False            False   \n",
              "1        False     False   False  False  False  False            False   \n",
              "2        False     False   False  False  False  False            False   \n",
              "\n",
              "   ParentsChildren   Fare  Cabin  Embarked  \n",
              "0            False  False   True     False  \n",
              "1            False  False  False     False  \n",
              "2            False  False   True     False  "
            ]
          },
          "metadata": {
            "tags": []
          },
          "execution_count": 11
        }
      ]
    },
    {
      "metadata": {
        "id": "_fmx7uRY0yRM",
        "colab_type": "code",
        "outputId": "c738704b-6da7-4407-dd86-c6ace040afe6",
        "colab": {
          "base_uri": "https://localhost:8080/",
          "height": 221
        }
      },
      "cell_type": "code",
      "source": [
        "# Like now.\n",
        "nullsPerCol = nulls.sum() # Has multiple uses...\n",
        "nullsPerCol"
      ],
      "execution_count": 12,
      "outputs": [
        {
          "output_type": "execute_result",
          "data": {
            "text/plain": [
              "PassengerId          0\n",
              "Survived             0\n",
              "Pclass               0\n",
              "Name                 0\n",
              "Sex                  0\n",
              "Age                177\n",
              "SiblingsSpouses      0\n",
              "ParentsChildren      0\n",
              "Fare                 0\n",
              "Cabin              687\n",
              "Embarked             2\n",
              "dtype: int64"
            ]
          },
          "metadata": {
            "tags": []
          },
          "execution_count": 12
        }
      ]
    },
    {
      "metadata": {
        "id": "3AMPLDWroFSs",
        "colab_type": "code",
        "colab": {}
      },
      "cell_type": "code",
      "source": [
        "def makeCategorical(col, df):\n",
        "    \"\"\"\n",
        "    Makes a given column categorical in the dataframe. Returns fixed dataframe.\n",
        "    \n",
        "    Parameters\n",
        "    ----------\n",
        "    col : String\n",
        "        The name of the column to make categorical.\n",
        "    df : pandas DataFrame\n",
        "        The dataframe to be altered.\n",
        "    \"\"\"\n",
        "    if (df[col].dtype.name == \"category\"):   # Skips columns that are already categories.\n",
        "        return\n",
        "    df[col] = pd.Categorical(df[col]) # The important part.\n",
        "    return df"
      ],
      "execution_count": 0,
      "outputs": []
    },
    {
      "metadata": {
        "id": "G0kwglB--HuY",
        "colab_type": "code",
        "outputId": "52e440c2-8144-4f87-a6e2-8ae0e68c2ddf",
        "colab": {
          "base_uri": "https://localhost:8080/",
          "height": 204
        }
      },
      "cell_type": "code",
      "source": [
        "tr.head(5)"
      ],
      "execution_count": 14,
      "outputs": [
        {
          "output_type": "execute_result",
          "data": {
            "text/html": [
              "<div>\n",
              "<style scoped>\n",
              "    .dataframe tbody tr th:only-of-type {\n",
              "        vertical-align: middle;\n",
              "    }\n",
              "\n",
              "    .dataframe tbody tr th {\n",
              "        vertical-align: top;\n",
              "    }\n",
              "\n",
              "    .dataframe thead th {\n",
              "        text-align: right;\n",
              "    }\n",
              "</style>\n",
              "<table border=\"1\" class=\"dataframe\">\n",
              "  <thead>\n",
              "    <tr style=\"text-align: right;\">\n",
              "      <th></th>\n",
              "      <th>PassengerId</th>\n",
              "      <th>Survived</th>\n",
              "      <th>Pclass</th>\n",
              "      <th>Name</th>\n",
              "      <th>Sex</th>\n",
              "      <th>Age</th>\n",
              "      <th>SiblingsSpouses</th>\n",
              "      <th>ParentsChildren</th>\n",
              "      <th>Fare</th>\n",
              "      <th>Cabin</th>\n",
              "      <th>Embarked</th>\n",
              "    </tr>\n",
              "  </thead>\n",
              "  <tbody>\n",
              "    <tr>\n",
              "      <th>0</th>\n",
              "      <td>1</td>\n",
              "      <td>0</td>\n",
              "      <td>3</td>\n",
              "      <td>Braund, Mr. Owen Harris</td>\n",
              "      <td>male</td>\n",
              "      <td>22.0</td>\n",
              "      <td>1</td>\n",
              "      <td>0</td>\n",
              "      <td>7.2500</td>\n",
              "      <td>NaN</td>\n",
              "      <td>S</td>\n",
              "    </tr>\n",
              "    <tr>\n",
              "      <th>1</th>\n",
              "      <td>2</td>\n",
              "      <td>1</td>\n",
              "      <td>1</td>\n",
              "      <td>Cumings, Mrs. John Bradley (Florence Briggs Th...</td>\n",
              "      <td>female</td>\n",
              "      <td>38.0</td>\n",
              "      <td>1</td>\n",
              "      <td>0</td>\n",
              "      <td>71.2833</td>\n",
              "      <td>C85</td>\n",
              "      <td>C</td>\n",
              "    </tr>\n",
              "    <tr>\n",
              "      <th>2</th>\n",
              "      <td>3</td>\n",
              "      <td>1</td>\n",
              "      <td>3</td>\n",
              "      <td>Heikkinen, Miss. Laina</td>\n",
              "      <td>female</td>\n",
              "      <td>26.0</td>\n",
              "      <td>0</td>\n",
              "      <td>0</td>\n",
              "      <td>7.9250</td>\n",
              "      <td>NaN</td>\n",
              "      <td>S</td>\n",
              "    </tr>\n",
              "    <tr>\n",
              "      <th>3</th>\n",
              "      <td>4</td>\n",
              "      <td>1</td>\n",
              "      <td>1</td>\n",
              "      <td>Futrelle, Mrs. Jacques Heath (Lily May Peel)</td>\n",
              "      <td>female</td>\n",
              "      <td>35.0</td>\n",
              "      <td>1</td>\n",
              "      <td>0</td>\n",
              "      <td>53.1000</td>\n",
              "      <td>C123</td>\n",
              "      <td>S</td>\n",
              "    </tr>\n",
              "    <tr>\n",
              "      <th>4</th>\n",
              "      <td>5</td>\n",
              "      <td>0</td>\n",
              "      <td>3</td>\n",
              "      <td>Allen, Mr. William Henry</td>\n",
              "      <td>male</td>\n",
              "      <td>35.0</td>\n",
              "      <td>0</td>\n",
              "      <td>0</td>\n",
              "      <td>8.0500</td>\n",
              "      <td>NaN</td>\n",
              "      <td>S</td>\n",
              "    </tr>\n",
              "  </tbody>\n",
              "</table>\n",
              "</div>"
            ],
            "text/plain": [
              "   PassengerId  Survived  Pclass  \\\n",
              "0            1         0       3   \n",
              "1            2         1       1   \n",
              "2            3         1       3   \n",
              "3            4         1       1   \n",
              "4            5         0       3   \n",
              "\n",
              "                                                Name     Sex   Age  \\\n",
              "0                            Braund, Mr. Owen Harris    male  22.0   \n",
              "1  Cumings, Mrs. John Bradley (Florence Briggs Th...  female  38.0   \n",
              "2                             Heikkinen, Miss. Laina  female  26.0   \n",
              "3       Futrelle, Mrs. Jacques Heath (Lily May Peel)  female  35.0   \n",
              "4                           Allen, Mr. William Henry    male  35.0   \n",
              "\n",
              "   SiblingsSpouses  ParentsChildren     Fare Cabin Embarked  \n",
              "0                1                0   7.2500   NaN        S  \n",
              "1                1                0  71.2833   C85        C  \n",
              "2                0                0   7.9250   NaN        S  \n",
              "3                1                0  53.1000  C123        S  \n",
              "4                0                0   8.0500   NaN        S  "
            ]
          },
          "metadata": {
            "tags": []
          },
          "execution_count": 14
        }
      ]
    },
    {
      "metadata": {
        "id": "kiHs_44coFSv",
        "colab_type": "code",
        "colab": {}
      },
      "cell_type": "code",
      "source": [
        "# Makes these columns explicit categories:\n",
        "categories = [\"Survived\", \"Pclass\", \"Sex\"]\n",
        "for i in range(len(categories)):\n",
        "    makeCategorical(categories[i], tr)"
      ],
      "execution_count": 0,
      "outputs": []
    },
    {
      "metadata": {
        "id": "GHY_rOA4oFSy",
        "colab_type": "code",
        "outputId": "b5fbe02e-0be1-4287-a704-07d49bdc944c",
        "colab": {
          "base_uri": "https://localhost:8080/",
          "height": 85
        }
      },
      "cell_type": "code",
      "source": [
        "# Shows how many categories each categorical column has.\n",
        "preview = \"\"\n",
        "for i in range(len(categories)): # For the categories we just made...\n",
        "    col = categories[i]\n",
        "    preview = preview + str(col) + \": \" + str(len(tr[col].cat.categories)) + \"\\n\" # We'll get into the slicing a bit more in a second, don't worry.\n",
        "print(preview)"
      ],
      "execution_count": 16,
      "outputs": [
        {
          "output_type": "stream",
          "text": [
            "Survived: 2\n",
            "Pclass: 3\n",
            "Sex: 2\n",
            "\n"
          ],
          "name": "stdout"
        }
      ]
    },
    {
      "metadata": {
        "id": "wioDjWTPuLLH",
        "colab_type": "text"
      },
      "cell_type": "markdown",
      "source": [
        "## Slicing DataFrames\n",
        "We just saw a pretty dense example; let's break down how DataFrames can be sliced."
      ]
    },
    {
      "metadata": {
        "id": "JR_zsR4wuExL",
        "colab_type": "code",
        "outputId": "7bb1f380-7379-4727-dbb5-94ba2e241312",
        "colab": {
          "base_uri": "https://localhost:8080/",
          "height": 142
        }
      },
      "cell_type": "code",
      "source": [
        "# We can slice by rows pretty intuitively.\n",
        "# Note: These slices do not include the final index.\n",
        "tr[0:3]"
      ],
      "execution_count": 17,
      "outputs": [
        {
          "output_type": "execute_result",
          "data": {
            "text/html": [
              "<div>\n",
              "<style scoped>\n",
              "    .dataframe tbody tr th:only-of-type {\n",
              "        vertical-align: middle;\n",
              "    }\n",
              "\n",
              "    .dataframe tbody tr th {\n",
              "        vertical-align: top;\n",
              "    }\n",
              "\n",
              "    .dataframe thead th {\n",
              "        text-align: right;\n",
              "    }\n",
              "</style>\n",
              "<table border=\"1\" class=\"dataframe\">\n",
              "  <thead>\n",
              "    <tr style=\"text-align: right;\">\n",
              "      <th></th>\n",
              "      <th>PassengerId</th>\n",
              "      <th>Survived</th>\n",
              "      <th>Pclass</th>\n",
              "      <th>Name</th>\n",
              "      <th>Sex</th>\n",
              "      <th>Age</th>\n",
              "      <th>SiblingsSpouses</th>\n",
              "      <th>ParentsChildren</th>\n",
              "      <th>Fare</th>\n",
              "      <th>Cabin</th>\n",
              "      <th>Embarked</th>\n",
              "    </tr>\n",
              "  </thead>\n",
              "  <tbody>\n",
              "    <tr>\n",
              "      <th>0</th>\n",
              "      <td>1</td>\n",
              "      <td>0</td>\n",
              "      <td>3</td>\n",
              "      <td>Braund, Mr. Owen Harris</td>\n",
              "      <td>male</td>\n",
              "      <td>22.0</td>\n",
              "      <td>1</td>\n",
              "      <td>0</td>\n",
              "      <td>7.2500</td>\n",
              "      <td>NaN</td>\n",
              "      <td>S</td>\n",
              "    </tr>\n",
              "    <tr>\n",
              "      <th>1</th>\n",
              "      <td>2</td>\n",
              "      <td>1</td>\n",
              "      <td>1</td>\n",
              "      <td>Cumings, Mrs. John Bradley (Florence Briggs Th...</td>\n",
              "      <td>female</td>\n",
              "      <td>38.0</td>\n",
              "      <td>1</td>\n",
              "      <td>0</td>\n",
              "      <td>71.2833</td>\n",
              "      <td>C85</td>\n",
              "      <td>C</td>\n",
              "    </tr>\n",
              "    <tr>\n",
              "      <th>2</th>\n",
              "      <td>3</td>\n",
              "      <td>1</td>\n",
              "      <td>3</td>\n",
              "      <td>Heikkinen, Miss. Laina</td>\n",
              "      <td>female</td>\n",
              "      <td>26.0</td>\n",
              "      <td>0</td>\n",
              "      <td>0</td>\n",
              "      <td>7.9250</td>\n",
              "      <td>NaN</td>\n",
              "      <td>S</td>\n",
              "    </tr>\n",
              "  </tbody>\n",
              "</table>\n",
              "</div>"
            ],
            "text/plain": [
              "   PassengerId Survived Pclass  \\\n",
              "0            1        0      3   \n",
              "1            2        1      1   \n",
              "2            3        1      3   \n",
              "\n",
              "                                                Name     Sex   Age  \\\n",
              "0                            Braund, Mr. Owen Harris    male  22.0   \n",
              "1  Cumings, Mrs. John Bradley (Florence Briggs Th...  female  38.0   \n",
              "2                             Heikkinen, Miss. Laina  female  26.0   \n",
              "\n",
              "   SiblingsSpouses  ParentsChildren     Fare Cabin Embarked  \n",
              "0                1                0   7.2500   NaN        S  \n",
              "1                1                0  71.2833   C85        C  \n",
              "2                0                0   7.9250   NaN        S  "
            ]
          },
          "metadata": {
            "tags": []
          },
          "execution_count": 17
        }
      ]
    },
    {
      "metadata": {
        "id": "MiU_gUBxu4gk",
        "colab_type": "code",
        "outputId": "4a799e3c-eaaa-4b99-888d-53f2fda68d3a",
        "colab": {
          "base_uri": "https://localhost:8080/",
          "height": 204
        }
      },
      "cell_type": "code",
      "source": [
        "# Check the last 5 observations.\n",
        "tr.tail(5)"
      ],
      "execution_count": 18,
      "outputs": [
        {
          "output_type": "execute_result",
          "data": {
            "text/html": [
              "<div>\n",
              "<style scoped>\n",
              "    .dataframe tbody tr th:only-of-type {\n",
              "        vertical-align: middle;\n",
              "    }\n",
              "\n",
              "    .dataframe tbody tr th {\n",
              "        vertical-align: top;\n",
              "    }\n",
              "\n",
              "    .dataframe thead th {\n",
              "        text-align: right;\n",
              "    }\n",
              "</style>\n",
              "<table border=\"1\" class=\"dataframe\">\n",
              "  <thead>\n",
              "    <tr style=\"text-align: right;\">\n",
              "      <th></th>\n",
              "      <th>PassengerId</th>\n",
              "      <th>Survived</th>\n",
              "      <th>Pclass</th>\n",
              "      <th>Name</th>\n",
              "      <th>Sex</th>\n",
              "      <th>Age</th>\n",
              "      <th>SiblingsSpouses</th>\n",
              "      <th>ParentsChildren</th>\n",
              "      <th>Fare</th>\n",
              "      <th>Cabin</th>\n",
              "      <th>Embarked</th>\n",
              "    </tr>\n",
              "  </thead>\n",
              "  <tbody>\n",
              "    <tr>\n",
              "      <th>886</th>\n",
              "      <td>887</td>\n",
              "      <td>0</td>\n",
              "      <td>2</td>\n",
              "      <td>Montvila, Rev. Juozas</td>\n",
              "      <td>male</td>\n",
              "      <td>27.0</td>\n",
              "      <td>0</td>\n",
              "      <td>0</td>\n",
              "      <td>13.00</td>\n",
              "      <td>NaN</td>\n",
              "      <td>S</td>\n",
              "    </tr>\n",
              "    <tr>\n",
              "      <th>887</th>\n",
              "      <td>888</td>\n",
              "      <td>1</td>\n",
              "      <td>1</td>\n",
              "      <td>Graham, Miss. Margaret Edith</td>\n",
              "      <td>female</td>\n",
              "      <td>19.0</td>\n",
              "      <td>0</td>\n",
              "      <td>0</td>\n",
              "      <td>30.00</td>\n",
              "      <td>B42</td>\n",
              "      <td>S</td>\n",
              "    </tr>\n",
              "    <tr>\n",
              "      <th>888</th>\n",
              "      <td>889</td>\n",
              "      <td>0</td>\n",
              "      <td>3</td>\n",
              "      <td>Johnston, Miss. Catherine Helen \"Carrie\"</td>\n",
              "      <td>female</td>\n",
              "      <td>NaN</td>\n",
              "      <td>1</td>\n",
              "      <td>2</td>\n",
              "      <td>23.45</td>\n",
              "      <td>NaN</td>\n",
              "      <td>S</td>\n",
              "    </tr>\n",
              "    <tr>\n",
              "      <th>889</th>\n",
              "      <td>890</td>\n",
              "      <td>1</td>\n",
              "      <td>1</td>\n",
              "      <td>Behr, Mr. Karl Howell</td>\n",
              "      <td>male</td>\n",
              "      <td>26.0</td>\n",
              "      <td>0</td>\n",
              "      <td>0</td>\n",
              "      <td>30.00</td>\n",
              "      <td>C148</td>\n",
              "      <td>C</td>\n",
              "    </tr>\n",
              "    <tr>\n",
              "      <th>890</th>\n",
              "      <td>891</td>\n",
              "      <td>0</td>\n",
              "      <td>3</td>\n",
              "      <td>Dooley, Mr. Patrick</td>\n",
              "      <td>male</td>\n",
              "      <td>32.0</td>\n",
              "      <td>0</td>\n",
              "      <td>0</td>\n",
              "      <td>7.75</td>\n",
              "      <td>NaN</td>\n",
              "      <td>Q</td>\n",
              "    </tr>\n",
              "  </tbody>\n",
              "</table>\n",
              "</div>"
            ],
            "text/plain": [
              "     PassengerId Survived Pclass                                      Name  \\\n",
              "886          887        0      2                     Montvila, Rev. Juozas   \n",
              "887          888        1      1              Graham, Miss. Margaret Edith   \n",
              "888          889        0      3  Johnston, Miss. Catherine Helen \"Carrie\"   \n",
              "889          890        1      1                     Behr, Mr. Karl Howell   \n",
              "890          891        0      3                       Dooley, Mr. Patrick   \n",
              "\n",
              "        Sex   Age  SiblingsSpouses  ParentsChildren   Fare Cabin Embarked  \n",
              "886    male  27.0                0                0  13.00   NaN        S  \n",
              "887  female  19.0                0                0  30.00   B42        S  \n",
              "888  female   NaN                1                2  23.45   NaN        S  \n",
              "889    male  26.0                0                0  30.00  C148        C  \n",
              "890    male  32.0                0                0   7.75   NaN        Q  "
            ]
          },
          "metadata": {
            "tags": []
          },
          "execution_count": 18
        }
      ]
    },
    {
      "metadata": {
        "id": "RFY4cY4VuGqC",
        "colab_type": "code",
        "outputId": "6fb81da8-ae2f-4bcb-ab85-69448e82f51a",
        "colab": {
          "base_uri": "https://localhost:8080/",
          "height": 142
        }
      },
      "cell_type": "code",
      "source": [
        "# We can also index from the ends of the DataFrame. Conceptualize it as if the final example is indexed -0.\n",
        "tr[-4:-1]"
      ],
      "execution_count": 19,
      "outputs": [
        {
          "output_type": "execute_result",
          "data": {
            "text/html": [
              "<div>\n",
              "<style scoped>\n",
              "    .dataframe tbody tr th:only-of-type {\n",
              "        vertical-align: middle;\n",
              "    }\n",
              "\n",
              "    .dataframe tbody tr th {\n",
              "        vertical-align: top;\n",
              "    }\n",
              "\n",
              "    .dataframe thead th {\n",
              "        text-align: right;\n",
              "    }\n",
              "</style>\n",
              "<table border=\"1\" class=\"dataframe\">\n",
              "  <thead>\n",
              "    <tr style=\"text-align: right;\">\n",
              "      <th></th>\n",
              "      <th>PassengerId</th>\n",
              "      <th>Survived</th>\n",
              "      <th>Pclass</th>\n",
              "      <th>Name</th>\n",
              "      <th>Sex</th>\n",
              "      <th>Age</th>\n",
              "      <th>SiblingsSpouses</th>\n",
              "      <th>ParentsChildren</th>\n",
              "      <th>Fare</th>\n",
              "      <th>Cabin</th>\n",
              "      <th>Embarked</th>\n",
              "    </tr>\n",
              "  </thead>\n",
              "  <tbody>\n",
              "    <tr>\n",
              "      <th>887</th>\n",
              "      <td>888</td>\n",
              "      <td>1</td>\n",
              "      <td>1</td>\n",
              "      <td>Graham, Miss. Margaret Edith</td>\n",
              "      <td>female</td>\n",
              "      <td>19.0</td>\n",
              "      <td>0</td>\n",
              "      <td>0</td>\n",
              "      <td>30.00</td>\n",
              "      <td>B42</td>\n",
              "      <td>S</td>\n",
              "    </tr>\n",
              "    <tr>\n",
              "      <th>888</th>\n",
              "      <td>889</td>\n",
              "      <td>0</td>\n",
              "      <td>3</td>\n",
              "      <td>Johnston, Miss. Catherine Helen \"Carrie\"</td>\n",
              "      <td>female</td>\n",
              "      <td>NaN</td>\n",
              "      <td>1</td>\n",
              "      <td>2</td>\n",
              "      <td>23.45</td>\n",
              "      <td>NaN</td>\n",
              "      <td>S</td>\n",
              "    </tr>\n",
              "    <tr>\n",
              "      <th>889</th>\n",
              "      <td>890</td>\n",
              "      <td>1</td>\n",
              "      <td>1</td>\n",
              "      <td>Behr, Mr. Karl Howell</td>\n",
              "      <td>male</td>\n",
              "      <td>26.0</td>\n",
              "      <td>0</td>\n",
              "      <td>0</td>\n",
              "      <td>30.00</td>\n",
              "      <td>C148</td>\n",
              "      <td>C</td>\n",
              "    </tr>\n",
              "  </tbody>\n",
              "</table>\n",
              "</div>"
            ],
            "text/plain": [
              "     PassengerId Survived Pclass                                      Name  \\\n",
              "887          888        1      1              Graham, Miss. Margaret Edith   \n",
              "888          889        0      3  Johnston, Miss. Catherine Helen \"Carrie\"   \n",
              "889          890        1      1                     Behr, Mr. Karl Howell   \n",
              "\n",
              "        Sex   Age  SiblingsSpouses  ParentsChildren   Fare Cabin Embarked  \n",
              "887  female  19.0                0                0  30.00   B42        S  \n",
              "888  female   NaN                1                2  23.45   NaN        S  \n",
              "889    male  26.0                0                0  30.00  C148        C  "
            ]
          },
          "metadata": {
            "tags": []
          },
          "execution_count": 19
        }
      ]
    },
    {
      "metadata": {
        "id": "qW0oxOy_znBq",
        "colab_type": "code",
        "outputId": "71838b9d-ab5f-4696-8c4d-0c6a91bb01ab",
        "colab": {
          "base_uri": "https://localhost:8080/",
          "height": 235
        }
      },
      "cell_type": "code",
      "source": [
        "# Finally, we can slice in both directions:\n",
        "# Order is row, column.\n",
        "tr.loc[\"0\":\"5\", \"Name\":\"Age\"] # Note that the start and end of this slice are included."
      ],
      "execution_count": 20,
      "outputs": [
        {
          "output_type": "execute_result",
          "data": {
            "text/html": [
              "<div>\n",
              "<style scoped>\n",
              "    .dataframe tbody tr th:only-of-type {\n",
              "        vertical-align: middle;\n",
              "    }\n",
              "\n",
              "    .dataframe tbody tr th {\n",
              "        vertical-align: top;\n",
              "    }\n",
              "\n",
              "    .dataframe thead th {\n",
              "        text-align: right;\n",
              "    }\n",
              "</style>\n",
              "<table border=\"1\" class=\"dataframe\">\n",
              "  <thead>\n",
              "    <tr style=\"text-align: right;\">\n",
              "      <th></th>\n",
              "      <th>Name</th>\n",
              "      <th>Sex</th>\n",
              "      <th>Age</th>\n",
              "    </tr>\n",
              "  </thead>\n",
              "  <tbody>\n",
              "    <tr>\n",
              "      <th>0</th>\n",
              "      <td>Braund, Mr. Owen Harris</td>\n",
              "      <td>male</td>\n",
              "      <td>22.0</td>\n",
              "    </tr>\n",
              "    <tr>\n",
              "      <th>1</th>\n",
              "      <td>Cumings, Mrs. John Bradley (Florence Briggs Th...</td>\n",
              "      <td>female</td>\n",
              "      <td>38.0</td>\n",
              "    </tr>\n",
              "    <tr>\n",
              "      <th>2</th>\n",
              "      <td>Heikkinen, Miss. Laina</td>\n",
              "      <td>female</td>\n",
              "      <td>26.0</td>\n",
              "    </tr>\n",
              "    <tr>\n",
              "      <th>3</th>\n",
              "      <td>Futrelle, Mrs. Jacques Heath (Lily May Peel)</td>\n",
              "      <td>female</td>\n",
              "      <td>35.0</td>\n",
              "    </tr>\n",
              "    <tr>\n",
              "      <th>4</th>\n",
              "      <td>Allen, Mr. William Henry</td>\n",
              "      <td>male</td>\n",
              "      <td>35.0</td>\n",
              "    </tr>\n",
              "    <tr>\n",
              "      <th>5</th>\n",
              "      <td>Moran, Mr. James</td>\n",
              "      <td>male</td>\n",
              "      <td>NaN</td>\n",
              "    </tr>\n",
              "  </tbody>\n",
              "</table>\n",
              "</div>"
            ],
            "text/plain": [
              "                                                Name     Sex   Age\n",
              "0                            Braund, Mr. Owen Harris    male  22.0\n",
              "1  Cumings, Mrs. John Bradley (Florence Briggs Th...  female  38.0\n",
              "2                             Heikkinen, Miss. Laina  female  26.0\n",
              "3       Futrelle, Mrs. Jacques Heath (Lily May Peel)  female  35.0\n",
              "4                           Allen, Mr. William Henry    male  35.0\n",
              "5                                   Moran, Mr. James    male   NaN"
            ]
          },
          "metadata": {
            "tags": []
          },
          "execution_count": 20
        }
      ]
    },
    {
      "metadata": {
        "id": "30g5RZyM00_5",
        "colab_type": "text"
      },
      "cell_type": "markdown",
      "source": [
        "The row indices are Strings here, which is a bit confusing. Some explanation:\n",
        "* https://pandas.pydata.org/pandas-docs/stable/indexing.html#selection-by-label"
      ]
    },
    {
      "metadata": {
        "id": "Xler3yUv1bhX",
        "colab_type": "code",
        "outputId": "a5bd667a-4978-40d0-d2f0-52cc7cf35a12",
        "colab": {
          "base_uri": "https://localhost:8080/",
          "height": 204
        }
      },
      "cell_type": "code",
      "source": [
        "# We can also select specific rows or columns.\n",
        "listOfImportantPeople = [\"0\", \"5\", \"10\", \"420\", \"500\"] # We only care about these people.\n",
        "features = [\"Name\", \"Age\", \"Cabin\"]\n",
        "tr.loc[listOfImportantPeople, features]"
      ],
      "execution_count": 21,
      "outputs": [
        {
          "output_type": "execute_result",
          "data": {
            "text/html": [
              "<div>\n",
              "<style scoped>\n",
              "    .dataframe tbody tr th:only-of-type {\n",
              "        vertical-align: middle;\n",
              "    }\n",
              "\n",
              "    .dataframe tbody tr th {\n",
              "        vertical-align: top;\n",
              "    }\n",
              "\n",
              "    .dataframe thead th {\n",
              "        text-align: right;\n",
              "    }\n",
              "</style>\n",
              "<table border=\"1\" class=\"dataframe\">\n",
              "  <thead>\n",
              "    <tr style=\"text-align: right;\">\n",
              "      <th></th>\n",
              "      <th>Name</th>\n",
              "      <th>Age</th>\n",
              "      <th>Cabin</th>\n",
              "    </tr>\n",
              "  </thead>\n",
              "  <tbody>\n",
              "    <tr>\n",
              "      <th>0</th>\n",
              "      <td>Braund, Mr. Owen Harris</td>\n",
              "      <td>22.0</td>\n",
              "      <td>NaN</td>\n",
              "    </tr>\n",
              "    <tr>\n",
              "      <th>5</th>\n",
              "      <td>Moran, Mr. James</td>\n",
              "      <td>NaN</td>\n",
              "      <td>NaN</td>\n",
              "    </tr>\n",
              "    <tr>\n",
              "      <th>10</th>\n",
              "      <td>Sandstrom, Miss. Marguerite Rut</td>\n",
              "      <td>4.0</td>\n",
              "      <td>G6</td>\n",
              "    </tr>\n",
              "    <tr>\n",
              "      <th>420</th>\n",
              "      <td>Gheorgheff, Mr. Stanio</td>\n",
              "      <td>NaN</td>\n",
              "      <td>NaN</td>\n",
              "    </tr>\n",
              "    <tr>\n",
              "      <th>500</th>\n",
              "      <td>Calic, Mr. Petar</td>\n",
              "      <td>17.0</td>\n",
              "      <td>NaN</td>\n",
              "    </tr>\n",
              "  </tbody>\n",
              "</table>\n",
              "</div>"
            ],
            "text/plain": [
              "                                Name   Age Cabin\n",
              "0            Braund, Mr. Owen Harris  22.0   NaN\n",
              "5                   Moran, Mr. James   NaN   NaN\n",
              "10   Sandstrom, Miss. Marguerite Rut   4.0    G6\n",
              "420           Gheorgheff, Mr. Stanio   NaN   NaN\n",
              "500                 Calic, Mr. Petar  17.0   NaN"
            ]
          },
          "metadata": {
            "tags": []
          },
          "execution_count": 21
        }
      ]
    },
    {
      "metadata": {
        "id": "KFWcaWIlvpNQ",
        "colab_type": "text"
      },
      "cell_type": "markdown",
      "source": [
        "## Fixing Null Ages\n",
        "Recall: Our Age column had some missing observations. We should work on that.\n",
        "\n",
        "But are the ages of the males and females on the Titanic different enough to justify averaging them separately?\n",
        "\n",
        "There's only one way to find out..."
      ]
    },
    {
      "metadata": {
        "id": "t6hWam7_skMO",
        "colab_type": "code",
        "outputId": "2808e903-ffe6-4c63-be14-0b8f78ee91fd",
        "colab": {
          "base_uri": "https://localhost:8080/",
          "height": 136
        }
      },
      "cell_type": "code",
      "source": [
        "# Now, how do we access just one column?\n",
        "sexLabels = tr[\"Sex\"] # Selects the \"Sex\" column.\n",
        "sexLabels.head(5)"
      ],
      "execution_count": 22,
      "outputs": [
        {
          "output_type": "execute_result",
          "data": {
            "text/plain": [
              "0      male\n",
              "1    female\n",
              "2    female\n",
              "3    female\n",
              "4      male\n",
              "Name: Sex, dtype: category\n",
              "Categories (2, object): [female, male]"
            ]
          },
          "metadata": {
            "tags": []
          },
          "execution_count": 22
        }
      ]
    },
    {
      "metadata": {
        "id": "RPRmdmrZs-tk",
        "colab_type": "code",
        "outputId": "8f7fdeac-87c0-42df-a7b3-35fa06ac750a",
        "colab": {
          "base_uri": "https://localhost:8080/",
          "height": 34
        }
      },
      "cell_type": "code",
      "source": [
        "# It's a Series. Pandas documentation describes these as \"One-dimensional ndarray with axis labels\"\n",
        "type(sexLabels)"
      ],
      "execution_count": 23,
      "outputs": [
        {
          "output_type": "execute_result",
          "data": {
            "text/plain": [
              "pandas.core.series.Series"
            ]
          },
          "metadata": {
            "tags": []
          },
          "execution_count": 23
        }
      ]
    },
    {
      "metadata": {
        "id": "5i9Cmy-htfbn",
        "colab_type": "code",
        "outputId": "40b88dff-d765-4dba-fe8b-fd40fbc99868",
        "colab": {
          "base_uri": "https://localhost:8080/",
          "height": 119
        }
      },
      "cell_type": "code",
      "source": [
        "# What if we wanted a Series of booleans, in order to select the correct observations?\n",
        "# We can select observations by label:\n",
        "males_bool = sexLabels == \"male\"\n",
        "females_bool = sexLabels == \"female\"\n",
        "females_bool.head(5)"
      ],
      "execution_count": 24,
      "outputs": [
        {
          "output_type": "execute_result",
          "data": {
            "text/plain": [
              "0    False\n",
              "1     True\n",
              "2     True\n",
              "3     True\n",
              "4    False\n",
              "Name: Sex, dtype: bool"
            ]
          },
          "metadata": {
            "tags": []
          },
          "execution_count": 24
        }
      ]
    },
    {
      "metadata": {
        "id": "AlrMW751t4sL",
        "colab_type": "code",
        "outputId": "692f2ceb-33e5-46fb-d002-2472f25aff58",
        "colab": {
          "base_uri": "https://localhost:8080/",
          "height": 204
        }
      },
      "cell_type": "code",
      "source": [
        "# Finally, let's find those examples.\n",
        "males = tr.loc[males_bool]\n",
        "males.head(5)"
      ],
      "execution_count": 25,
      "outputs": [
        {
          "output_type": "execute_result",
          "data": {
            "text/html": [
              "<div>\n",
              "<style scoped>\n",
              "    .dataframe tbody tr th:only-of-type {\n",
              "        vertical-align: middle;\n",
              "    }\n",
              "\n",
              "    .dataframe tbody tr th {\n",
              "        vertical-align: top;\n",
              "    }\n",
              "\n",
              "    .dataframe thead th {\n",
              "        text-align: right;\n",
              "    }\n",
              "</style>\n",
              "<table border=\"1\" class=\"dataframe\">\n",
              "  <thead>\n",
              "    <tr style=\"text-align: right;\">\n",
              "      <th></th>\n",
              "      <th>PassengerId</th>\n",
              "      <th>Survived</th>\n",
              "      <th>Pclass</th>\n",
              "      <th>Name</th>\n",
              "      <th>Sex</th>\n",
              "      <th>Age</th>\n",
              "      <th>SiblingsSpouses</th>\n",
              "      <th>ParentsChildren</th>\n",
              "      <th>Fare</th>\n",
              "      <th>Cabin</th>\n",
              "      <th>Embarked</th>\n",
              "    </tr>\n",
              "  </thead>\n",
              "  <tbody>\n",
              "    <tr>\n",
              "      <th>0</th>\n",
              "      <td>1</td>\n",
              "      <td>0</td>\n",
              "      <td>3</td>\n",
              "      <td>Braund, Mr. Owen Harris</td>\n",
              "      <td>male</td>\n",
              "      <td>22.0</td>\n",
              "      <td>1</td>\n",
              "      <td>0</td>\n",
              "      <td>7.2500</td>\n",
              "      <td>NaN</td>\n",
              "      <td>S</td>\n",
              "    </tr>\n",
              "    <tr>\n",
              "      <th>4</th>\n",
              "      <td>5</td>\n",
              "      <td>0</td>\n",
              "      <td>3</td>\n",
              "      <td>Allen, Mr. William Henry</td>\n",
              "      <td>male</td>\n",
              "      <td>35.0</td>\n",
              "      <td>0</td>\n",
              "      <td>0</td>\n",
              "      <td>8.0500</td>\n",
              "      <td>NaN</td>\n",
              "      <td>S</td>\n",
              "    </tr>\n",
              "    <tr>\n",
              "      <th>5</th>\n",
              "      <td>6</td>\n",
              "      <td>0</td>\n",
              "      <td>3</td>\n",
              "      <td>Moran, Mr. James</td>\n",
              "      <td>male</td>\n",
              "      <td>NaN</td>\n",
              "      <td>0</td>\n",
              "      <td>0</td>\n",
              "      <td>8.4583</td>\n",
              "      <td>NaN</td>\n",
              "      <td>Q</td>\n",
              "    </tr>\n",
              "    <tr>\n",
              "      <th>6</th>\n",
              "      <td>7</td>\n",
              "      <td>0</td>\n",
              "      <td>1</td>\n",
              "      <td>McCarthy, Mr. Timothy J</td>\n",
              "      <td>male</td>\n",
              "      <td>54.0</td>\n",
              "      <td>0</td>\n",
              "      <td>0</td>\n",
              "      <td>51.8625</td>\n",
              "      <td>E46</td>\n",
              "      <td>S</td>\n",
              "    </tr>\n",
              "    <tr>\n",
              "      <th>7</th>\n",
              "      <td>8</td>\n",
              "      <td>0</td>\n",
              "      <td>3</td>\n",
              "      <td>Palsson, Master. Gosta Leonard</td>\n",
              "      <td>male</td>\n",
              "      <td>2.0</td>\n",
              "      <td>3</td>\n",
              "      <td>1</td>\n",
              "      <td>21.0750</td>\n",
              "      <td>NaN</td>\n",
              "      <td>S</td>\n",
              "    </tr>\n",
              "  </tbody>\n",
              "</table>\n",
              "</div>"
            ],
            "text/plain": [
              "   PassengerId Survived Pclass                            Name   Sex   Age  \\\n",
              "0            1        0      3         Braund, Mr. Owen Harris  male  22.0   \n",
              "4            5        0      3        Allen, Mr. William Henry  male  35.0   \n",
              "5            6        0      3                Moran, Mr. James  male   NaN   \n",
              "6            7        0      1         McCarthy, Mr. Timothy J  male  54.0   \n",
              "7            8        0      3  Palsson, Master. Gosta Leonard  male   2.0   \n",
              "\n",
              "   SiblingsSpouses  ParentsChildren     Fare Cabin Embarked  \n",
              "0                1                0   7.2500   NaN        S  \n",
              "4                0                0   8.0500   NaN        S  \n",
              "5                0                0   8.4583   NaN        Q  \n",
              "6                0                0  51.8625   E46        S  \n",
              "7                3                1  21.0750   NaN        S  "
            ]
          },
          "metadata": {
            "tags": []
          },
          "execution_count": 25
        }
      ]
    },
    {
      "metadata": {
        "id": "t51xKMQHoFS3",
        "colab_type": "code",
        "colab": {}
      },
      "cell_type": "code",
      "source": [
        "# Using what we've seen, create two dataframes each with either the male and females observations.\n",
        "tr_male = tr.loc[tr[\"Sex\"] == \"male\"]\n",
        "tr_female = tr.loc[tr[\"Sex\"] == \"female\"]"
      ],
      "execution_count": 0,
      "outputs": []
    },
    {
      "metadata": {
        "id": "KHvcREjmoFS6",
        "colab_type": "code",
        "outputId": "33c17cc7-129a-4f22-a916-6244468d1f15",
        "colab": {
          "base_uri": "https://localhost:8080/",
          "height": 142
        }
      },
      "cell_type": "code",
      "source": [
        "# Previews the male dataframe.\n",
        "tr_male.head(3)"
      ],
      "execution_count": 27,
      "outputs": [
        {
          "output_type": "execute_result",
          "data": {
            "text/html": [
              "<div>\n",
              "<style scoped>\n",
              "    .dataframe tbody tr th:only-of-type {\n",
              "        vertical-align: middle;\n",
              "    }\n",
              "\n",
              "    .dataframe tbody tr th {\n",
              "        vertical-align: top;\n",
              "    }\n",
              "\n",
              "    .dataframe thead th {\n",
              "        text-align: right;\n",
              "    }\n",
              "</style>\n",
              "<table border=\"1\" class=\"dataframe\">\n",
              "  <thead>\n",
              "    <tr style=\"text-align: right;\">\n",
              "      <th></th>\n",
              "      <th>PassengerId</th>\n",
              "      <th>Survived</th>\n",
              "      <th>Pclass</th>\n",
              "      <th>Name</th>\n",
              "      <th>Sex</th>\n",
              "      <th>Age</th>\n",
              "      <th>SiblingsSpouses</th>\n",
              "      <th>ParentsChildren</th>\n",
              "      <th>Fare</th>\n",
              "      <th>Cabin</th>\n",
              "      <th>Embarked</th>\n",
              "    </tr>\n",
              "  </thead>\n",
              "  <tbody>\n",
              "    <tr>\n",
              "      <th>0</th>\n",
              "      <td>1</td>\n",
              "      <td>0</td>\n",
              "      <td>3</td>\n",
              "      <td>Braund, Mr. Owen Harris</td>\n",
              "      <td>male</td>\n",
              "      <td>22.0</td>\n",
              "      <td>1</td>\n",
              "      <td>0</td>\n",
              "      <td>7.2500</td>\n",
              "      <td>NaN</td>\n",
              "      <td>S</td>\n",
              "    </tr>\n",
              "    <tr>\n",
              "      <th>4</th>\n",
              "      <td>5</td>\n",
              "      <td>0</td>\n",
              "      <td>3</td>\n",
              "      <td>Allen, Mr. William Henry</td>\n",
              "      <td>male</td>\n",
              "      <td>35.0</td>\n",
              "      <td>0</td>\n",
              "      <td>0</td>\n",
              "      <td>8.0500</td>\n",
              "      <td>NaN</td>\n",
              "      <td>S</td>\n",
              "    </tr>\n",
              "    <tr>\n",
              "      <th>5</th>\n",
              "      <td>6</td>\n",
              "      <td>0</td>\n",
              "      <td>3</td>\n",
              "      <td>Moran, Mr. James</td>\n",
              "      <td>male</td>\n",
              "      <td>NaN</td>\n",
              "      <td>0</td>\n",
              "      <td>0</td>\n",
              "      <td>8.4583</td>\n",
              "      <td>NaN</td>\n",
              "      <td>Q</td>\n",
              "    </tr>\n",
              "  </tbody>\n",
              "</table>\n",
              "</div>"
            ],
            "text/plain": [
              "   PassengerId Survived Pclass                      Name   Sex   Age  \\\n",
              "0            1        0      3   Braund, Mr. Owen Harris  male  22.0   \n",
              "4            5        0      3  Allen, Mr. William Henry  male  35.0   \n",
              "5            6        0      3          Moran, Mr. James  male   NaN   \n",
              "\n",
              "   SiblingsSpouses  ParentsChildren    Fare Cabin Embarked  \n",
              "0                1                0  7.2500   NaN        S  \n",
              "4                0                0  8.0500   NaN        S  \n",
              "5                0                0  8.4583   NaN        Q  "
            ]
          },
          "metadata": {
            "tags": []
          },
          "execution_count": 27
        }
      ]
    },
    {
      "metadata": {
        "id": "FxA91V8a7mT_",
        "colab_type": "code",
        "outputId": "bec10040-3e1b-432c-a9a9-4953818c2867",
        "colab": {
          "base_uri": "https://localhost:8080/",
          "height": 34
        }
      },
      "cell_type": "code",
      "source": [
        "len(tr_male)"
      ],
      "execution_count": 28,
      "outputs": [
        {
          "output_type": "execute_result",
          "data": {
            "text/plain": [
              "577"
            ]
          },
          "metadata": {
            "tags": []
          },
          "execution_count": 28
        }
      ]
    },
    {
      "metadata": {
        "id": "5scA8VF1oFS-",
        "colab_type": "code",
        "outputId": "448a8921-4da0-4363-94c6-38b9cd32fc6b",
        "colab": {
          "base_uri": "https://localhost:8080/",
          "height": 142
        }
      },
      "cell_type": "code",
      "source": [
        "# Previews the female dataframe.\n",
        "tr_female.head(3)"
      ],
      "execution_count": 29,
      "outputs": [
        {
          "output_type": "execute_result",
          "data": {
            "text/html": [
              "<div>\n",
              "<style scoped>\n",
              "    .dataframe tbody tr th:only-of-type {\n",
              "        vertical-align: middle;\n",
              "    }\n",
              "\n",
              "    .dataframe tbody tr th {\n",
              "        vertical-align: top;\n",
              "    }\n",
              "\n",
              "    .dataframe thead th {\n",
              "        text-align: right;\n",
              "    }\n",
              "</style>\n",
              "<table border=\"1\" class=\"dataframe\">\n",
              "  <thead>\n",
              "    <tr style=\"text-align: right;\">\n",
              "      <th></th>\n",
              "      <th>PassengerId</th>\n",
              "      <th>Survived</th>\n",
              "      <th>Pclass</th>\n",
              "      <th>Name</th>\n",
              "      <th>Sex</th>\n",
              "      <th>Age</th>\n",
              "      <th>SiblingsSpouses</th>\n",
              "      <th>ParentsChildren</th>\n",
              "      <th>Fare</th>\n",
              "      <th>Cabin</th>\n",
              "      <th>Embarked</th>\n",
              "    </tr>\n",
              "  </thead>\n",
              "  <tbody>\n",
              "    <tr>\n",
              "      <th>1</th>\n",
              "      <td>2</td>\n",
              "      <td>1</td>\n",
              "      <td>1</td>\n",
              "      <td>Cumings, Mrs. John Bradley (Florence Briggs Th...</td>\n",
              "      <td>female</td>\n",
              "      <td>38.0</td>\n",
              "      <td>1</td>\n",
              "      <td>0</td>\n",
              "      <td>71.2833</td>\n",
              "      <td>C85</td>\n",
              "      <td>C</td>\n",
              "    </tr>\n",
              "    <tr>\n",
              "      <th>2</th>\n",
              "      <td>3</td>\n",
              "      <td>1</td>\n",
              "      <td>3</td>\n",
              "      <td>Heikkinen, Miss. Laina</td>\n",
              "      <td>female</td>\n",
              "      <td>26.0</td>\n",
              "      <td>0</td>\n",
              "      <td>0</td>\n",
              "      <td>7.9250</td>\n",
              "      <td>NaN</td>\n",
              "      <td>S</td>\n",
              "    </tr>\n",
              "    <tr>\n",
              "      <th>3</th>\n",
              "      <td>4</td>\n",
              "      <td>1</td>\n",
              "      <td>1</td>\n",
              "      <td>Futrelle, Mrs. Jacques Heath (Lily May Peel)</td>\n",
              "      <td>female</td>\n",
              "      <td>35.0</td>\n",
              "      <td>1</td>\n",
              "      <td>0</td>\n",
              "      <td>53.1000</td>\n",
              "      <td>C123</td>\n",
              "      <td>S</td>\n",
              "    </tr>\n",
              "  </tbody>\n",
              "</table>\n",
              "</div>"
            ],
            "text/plain": [
              "   PassengerId Survived Pclass  \\\n",
              "1            2        1      1   \n",
              "2            3        1      3   \n",
              "3            4        1      1   \n",
              "\n",
              "                                                Name     Sex   Age  \\\n",
              "1  Cumings, Mrs. John Bradley (Florence Briggs Th...  female  38.0   \n",
              "2                             Heikkinen, Miss. Laina  female  26.0   \n",
              "3       Futrelle, Mrs. Jacques Heath (Lily May Peel)  female  35.0   \n",
              "\n",
              "   SiblingsSpouses  ParentsChildren     Fare Cabin Embarked  \n",
              "1                1                0  71.2833   C85        C  \n",
              "2                0                0   7.9250   NaN        S  \n",
              "3                1                0  53.1000  C123        S  "
            ]
          },
          "metadata": {
            "tags": []
          },
          "execution_count": 29
        }
      ]
    },
    {
      "metadata": {
        "id": "g_gkNpLg7oPJ",
        "colab_type": "code",
        "outputId": "22fa8817-cbf5-4942-9b9f-c7b35bf800a5",
        "colab": {
          "base_uri": "https://localhost:8080/",
          "height": 34
        }
      },
      "cell_type": "code",
      "source": [
        "len(tr_female)"
      ],
      "execution_count": 30,
      "outputs": [
        {
          "output_type": "execute_result",
          "data": {
            "text/plain": [
              "314"
            ]
          },
          "metadata": {
            "tags": []
          },
          "execution_count": 30
        }
      ]
    },
    {
      "metadata": {
        "id": "8yLV3OsC331n",
        "colab_type": "text"
      },
      "cell_type": "markdown",
      "source": [
        "Let's create a method to replace null values of a given column with the column's average. First, find average for the Age column.\n",
        "\n",
        "Pretty simple:"
      ]
    },
    {
      "metadata": {
        "id": "2QtxQvxSxTfB",
        "colab_type": "code",
        "outputId": "96637395-68b6-478d-9060-0e33f1a1eaa5",
        "colab": {
          "base_uri": "https://localhost:8080/",
          "height": 34
        }
      },
      "cell_type": "code",
      "source": [
        "tr_male[\"Age\"].mean()"
      ],
      "execution_count": 31,
      "outputs": [
        {
          "output_type": "execute_result",
          "data": {
            "text/plain": [
              "30.72664459161148"
            ]
          },
          "metadata": {
            "tags": []
          },
          "execution_count": 31
        }
      ]
    },
    {
      "metadata": {
        "id": "cESojUBZ7tDW",
        "colab_type": "code",
        "outputId": "954c9ed8-d0ec-42ae-9aa3-f10ef87eea5d",
        "colab": {
          "base_uri": "https://localhost:8080/",
          "height": 34
        }
      },
      "cell_type": "code",
      "source": [
        "tr_female[\"Age\"].mean() # Small difference, but we can pretend it justifies this work."
      ],
      "execution_count": 32,
      "outputs": [
        {
          "output_type": "execute_result",
          "data": {
            "text/plain": [
              "27.915708812260537"
            ]
          },
          "metadata": {
            "tags": []
          },
          "execution_count": 32
        }
      ]
    },
    {
      "metadata": {
        "id": "H1-8GdTP4Azc",
        "colab_type": "text"
      },
      "cell_type": "markdown",
      "source": [
        "Now, replace null values with that average. There's a function for that:\n",
        "\n",
        ".fillna(value, inplace = boolean)\n",
        "\n",
        "\n",
        "inplace changes whether the data is replaced in its place or in a newly created/returned DataFrame. Defaults to False."
      ]
    },
    {
      "metadata": {
        "id": "L-V83NyUoFTC",
        "colab_type": "code",
        "colab": {}
      },
      "cell_type": "code",
      "source": [
        "\n",
        "def fixNulls(colName, df):\n",
        "    \"\"\"\n",
        "    Replaces null values in a given column with the average of the column. Returns fixed dataframe.\n",
        "    \n",
        "    Parameters\n",
        "    ----------\n",
        "    colName : String\n",
        "        The name of the column to fix.\n",
        "    df : pandas DataFrame\n",
        "        The dataframe to be altered.\n",
        "    \"\"\"\n",
        "    average = df[colName].mean()\n",
        "    df1 = df.fillna(value = {colName : average})\n",
        "    return df1"
      ],
      "execution_count": 0,
      "outputs": []
    },
    {
      "metadata": {
        "id": "65NOLV2koFTE",
        "colab_type": "code",
        "outputId": "ae4b3a49-bf9b-4792-b9f9-f627cf69fed8",
        "colab": {
          "base_uri": "https://localhost:8080/",
          "height": 204
        }
      },
      "cell_type": "code",
      "source": [
        "# Previews the male dataframe's \"Age\" column before null fixing.\n",
        "tr_male.loc[:, \"Age\"].head(10)"
      ],
      "execution_count": 34,
      "outputs": [
        {
          "output_type": "execute_result",
          "data": {
            "text/plain": [
              "0     22.0\n",
              "4     35.0\n",
              "5      NaN\n",
              "6     54.0\n",
              "7      2.0\n",
              "12    20.0\n",
              "13    39.0\n",
              "16     2.0\n",
              "17     NaN\n",
              "20    35.0\n",
              "Name: Age, dtype: float64"
            ]
          },
          "metadata": {
            "tags": []
          },
          "execution_count": 34
        }
      ]
    },
    {
      "metadata": {
        "id": "6pKq19SYoFTI",
        "colab_type": "code",
        "colab": {}
      },
      "cell_type": "code",
      "source": [
        "tr_male = fixNulls(\"Age\", tr_male)\n",
        "tr_female = fixNulls(\"Age\", tr_female)"
      ],
      "execution_count": 0,
      "outputs": []
    },
    {
      "metadata": {
        "id": "RYfADWb5oFTO",
        "colab_type": "code",
        "outputId": "0c7b0d8c-cd27-4146-a363-2470c0fb7e4e",
        "colab": {
          "base_uri": "https://localhost:8080/",
          "height": 204
        }
      },
      "cell_type": "code",
      "source": [
        "# Shows the male dataframe's \"Age\" column after null fixing.\n",
        "tr_male.loc[:, \"Age\"].head(10)"
      ],
      "execution_count": 36,
      "outputs": [
        {
          "output_type": "execute_result",
          "data": {
            "text/plain": [
              "0     22.000000\n",
              "4     35.000000\n",
              "5     30.726645\n",
              "6     54.000000\n",
              "7      2.000000\n",
              "12    20.000000\n",
              "13    39.000000\n",
              "16     2.000000\n",
              "17    30.726645\n",
              "20    35.000000\n",
              "Name: Age, dtype: float64"
            ]
          },
          "metadata": {
            "tags": []
          },
          "execution_count": 36
        }
      ]
    },
    {
      "metadata": {
        "id": "Rxl5PrK0TpQI",
        "colab_type": "code",
        "outputId": "58e1dc01-2a64-4428-e774-fd452f8d435a",
        "colab": {
          "base_uri": "https://localhost:8080/",
          "height": 142
        }
      },
      "cell_type": "code",
      "source": [
        "# We see that the rest of the DataFrame is untouched. *Cabin*\n",
        "tr_male.head(3)"
      ],
      "execution_count": 37,
      "outputs": [
        {
          "output_type": "execute_result",
          "data": {
            "text/html": [
              "<div>\n",
              "<style scoped>\n",
              "    .dataframe tbody tr th:only-of-type {\n",
              "        vertical-align: middle;\n",
              "    }\n",
              "\n",
              "    .dataframe tbody tr th {\n",
              "        vertical-align: top;\n",
              "    }\n",
              "\n",
              "    .dataframe thead th {\n",
              "        text-align: right;\n",
              "    }\n",
              "</style>\n",
              "<table border=\"1\" class=\"dataframe\">\n",
              "  <thead>\n",
              "    <tr style=\"text-align: right;\">\n",
              "      <th></th>\n",
              "      <th>PassengerId</th>\n",
              "      <th>Survived</th>\n",
              "      <th>Pclass</th>\n",
              "      <th>Name</th>\n",
              "      <th>Sex</th>\n",
              "      <th>Age</th>\n",
              "      <th>SiblingsSpouses</th>\n",
              "      <th>ParentsChildren</th>\n",
              "      <th>Fare</th>\n",
              "      <th>Cabin</th>\n",
              "      <th>Embarked</th>\n",
              "    </tr>\n",
              "  </thead>\n",
              "  <tbody>\n",
              "    <tr>\n",
              "      <th>0</th>\n",
              "      <td>1</td>\n",
              "      <td>0</td>\n",
              "      <td>3</td>\n",
              "      <td>Braund, Mr. Owen Harris</td>\n",
              "      <td>male</td>\n",
              "      <td>22.000000</td>\n",
              "      <td>1</td>\n",
              "      <td>0</td>\n",
              "      <td>7.2500</td>\n",
              "      <td>NaN</td>\n",
              "      <td>S</td>\n",
              "    </tr>\n",
              "    <tr>\n",
              "      <th>4</th>\n",
              "      <td>5</td>\n",
              "      <td>0</td>\n",
              "      <td>3</td>\n",
              "      <td>Allen, Mr. William Henry</td>\n",
              "      <td>male</td>\n",
              "      <td>35.000000</td>\n",
              "      <td>0</td>\n",
              "      <td>0</td>\n",
              "      <td>8.0500</td>\n",
              "      <td>NaN</td>\n",
              "      <td>S</td>\n",
              "    </tr>\n",
              "    <tr>\n",
              "      <th>5</th>\n",
              "      <td>6</td>\n",
              "      <td>0</td>\n",
              "      <td>3</td>\n",
              "      <td>Moran, Mr. James</td>\n",
              "      <td>male</td>\n",
              "      <td>30.726645</td>\n",
              "      <td>0</td>\n",
              "      <td>0</td>\n",
              "      <td>8.4583</td>\n",
              "      <td>NaN</td>\n",
              "      <td>Q</td>\n",
              "    </tr>\n",
              "  </tbody>\n",
              "</table>\n",
              "</div>"
            ],
            "text/plain": [
              "   PassengerId Survived Pclass                      Name   Sex        Age  \\\n",
              "0            1        0      3   Braund, Mr. Owen Harris  male  22.000000   \n",
              "4            5        0      3  Allen, Mr. William Henry  male  35.000000   \n",
              "5            6        0      3          Moran, Mr. James  male  30.726645   \n",
              "\n",
              "   SiblingsSpouses  ParentsChildren    Fare Cabin Embarked  \n",
              "0                1                0  7.2500   NaN        S  \n",
              "4                0                0  8.0500   NaN        S  \n",
              "5                0                0  8.4583   NaN        Q  "
            ]
          },
          "metadata": {
            "tags": []
          },
          "execution_count": 37
        }
      ]
    },
    {
      "metadata": {
        "id": "WBTMeI4loFTU",
        "colab_type": "code",
        "colab": {}
      },
      "cell_type": "code",
      "source": [
        "# Recombines the male and female dataframes back into a single dataframe.\n",
        "tr = tr_male.append(tr_female)"
      ],
      "execution_count": 0,
      "outputs": []
    },
    {
      "metadata": {
        "id": "W6X44WS7C2i4",
        "colab_type": "code",
        "outputId": "ce15fff3-6b6b-4a4f-9d2e-fa0cd1d5feca",
        "colab": {
          "base_uri": "https://localhost:8080/",
          "height": 204
        }
      },
      "cell_type": "code",
      "source": [
        "tr.sort_values([\"PassengerId\"], inplace = True) # Because we just threw all female observations to the end of the frame.\n",
        "tr.tail(5)"
      ],
      "execution_count": 39,
      "outputs": [
        {
          "output_type": "execute_result",
          "data": {
            "text/html": [
              "<div>\n",
              "<style scoped>\n",
              "    .dataframe tbody tr th:only-of-type {\n",
              "        vertical-align: middle;\n",
              "    }\n",
              "\n",
              "    .dataframe tbody tr th {\n",
              "        vertical-align: top;\n",
              "    }\n",
              "\n",
              "    .dataframe thead th {\n",
              "        text-align: right;\n",
              "    }\n",
              "</style>\n",
              "<table border=\"1\" class=\"dataframe\">\n",
              "  <thead>\n",
              "    <tr style=\"text-align: right;\">\n",
              "      <th></th>\n",
              "      <th>PassengerId</th>\n",
              "      <th>Survived</th>\n",
              "      <th>Pclass</th>\n",
              "      <th>Name</th>\n",
              "      <th>Sex</th>\n",
              "      <th>Age</th>\n",
              "      <th>SiblingsSpouses</th>\n",
              "      <th>ParentsChildren</th>\n",
              "      <th>Fare</th>\n",
              "      <th>Cabin</th>\n",
              "      <th>Embarked</th>\n",
              "    </tr>\n",
              "  </thead>\n",
              "  <tbody>\n",
              "    <tr>\n",
              "      <th>886</th>\n",
              "      <td>887</td>\n",
              "      <td>0</td>\n",
              "      <td>2</td>\n",
              "      <td>Montvila, Rev. Juozas</td>\n",
              "      <td>male</td>\n",
              "      <td>27.000000</td>\n",
              "      <td>0</td>\n",
              "      <td>0</td>\n",
              "      <td>13.00</td>\n",
              "      <td>NaN</td>\n",
              "      <td>S</td>\n",
              "    </tr>\n",
              "    <tr>\n",
              "      <th>887</th>\n",
              "      <td>888</td>\n",
              "      <td>1</td>\n",
              "      <td>1</td>\n",
              "      <td>Graham, Miss. Margaret Edith</td>\n",
              "      <td>female</td>\n",
              "      <td>19.000000</td>\n",
              "      <td>0</td>\n",
              "      <td>0</td>\n",
              "      <td>30.00</td>\n",
              "      <td>B42</td>\n",
              "      <td>S</td>\n",
              "    </tr>\n",
              "    <tr>\n",
              "      <th>888</th>\n",
              "      <td>889</td>\n",
              "      <td>0</td>\n",
              "      <td>3</td>\n",
              "      <td>Johnston, Miss. Catherine Helen \"Carrie\"</td>\n",
              "      <td>female</td>\n",
              "      <td>27.915709</td>\n",
              "      <td>1</td>\n",
              "      <td>2</td>\n",
              "      <td>23.45</td>\n",
              "      <td>NaN</td>\n",
              "      <td>S</td>\n",
              "    </tr>\n",
              "    <tr>\n",
              "      <th>889</th>\n",
              "      <td>890</td>\n",
              "      <td>1</td>\n",
              "      <td>1</td>\n",
              "      <td>Behr, Mr. Karl Howell</td>\n",
              "      <td>male</td>\n",
              "      <td>26.000000</td>\n",
              "      <td>0</td>\n",
              "      <td>0</td>\n",
              "      <td>30.00</td>\n",
              "      <td>C148</td>\n",
              "      <td>C</td>\n",
              "    </tr>\n",
              "    <tr>\n",
              "      <th>890</th>\n",
              "      <td>891</td>\n",
              "      <td>0</td>\n",
              "      <td>3</td>\n",
              "      <td>Dooley, Mr. Patrick</td>\n",
              "      <td>male</td>\n",
              "      <td>32.000000</td>\n",
              "      <td>0</td>\n",
              "      <td>0</td>\n",
              "      <td>7.75</td>\n",
              "      <td>NaN</td>\n",
              "      <td>Q</td>\n",
              "    </tr>\n",
              "  </tbody>\n",
              "</table>\n",
              "</div>"
            ],
            "text/plain": [
              "     PassengerId Survived Pclass                                      Name  \\\n",
              "886          887        0      2                     Montvila, Rev. Juozas   \n",
              "887          888        1      1              Graham, Miss. Margaret Edith   \n",
              "888          889        0      3  Johnston, Miss. Catherine Helen \"Carrie\"   \n",
              "889          890        1      1                     Behr, Mr. Karl Howell   \n",
              "890          891        0      3                       Dooley, Mr. Patrick   \n",
              "\n",
              "        Sex        Age  SiblingsSpouses  ParentsChildren   Fare Cabin Embarked  \n",
              "886    male  27.000000                0                0  13.00   NaN        S  \n",
              "887  female  19.000000                0                0  30.00   B42        S  \n",
              "888  female  27.915709                1                2  23.45   NaN        S  \n",
              "889    male  26.000000                0                0  30.00  C148        C  \n",
              "890    male  32.000000                0                0   7.75   NaN        Q  "
            ]
          },
          "metadata": {
            "tags": []
          },
          "execution_count": 39
        }
      ]
    },
    {
      "metadata": {
        "id": "SZLrIpLu4_Lk",
        "colab_type": "code",
        "outputId": "e86fc771-2f51-46ed-f248-5b3e5d48d912",
        "colab": {
          "base_uri": "https://localhost:8080/",
          "height": 221
        }
      },
      "cell_type": "code",
      "source": [
        "# Check our nulls...\n",
        "nullsPerCol = tr.isna().sum()\n",
        "nullsPerCol"
      ],
      "execution_count": 40,
      "outputs": [
        {
          "output_type": "execute_result",
          "data": {
            "text/plain": [
              "PassengerId          0\n",
              "Survived             0\n",
              "Pclass               0\n",
              "Name                 0\n",
              "Sex                  0\n",
              "Age                  0\n",
              "SiblingsSpouses      0\n",
              "ParentsChildren      0\n",
              "Fare                 0\n",
              "Cabin              687\n",
              "Embarked             2\n",
              "dtype: int64"
            ]
          },
          "metadata": {
            "tags": []
          },
          "execution_count": 40
        }
      ]
    },
    {
      "metadata": {
        "id": "NSXcjiGK_2gp",
        "colab_type": "text"
      },
      "cell_type": "markdown",
      "source": [
        "We still have a bit of work to do, then."
      ]
    },
    {
      "metadata": {
        "id": "fZP50Pg06HUx",
        "colab_type": "code",
        "outputId": "343c951f-e22b-4b82-c25a-9585454fbced",
        "colab": {
          "base_uri": "https://localhost:8080/",
          "height": 80
        }
      },
      "cell_type": "code",
      "source": [
        "# Yeah, Cabin is basically useless.\n",
        "tr.drop([\"Cabin\"], axis = 1, inplace = True)\n",
        "tr.head(1)"
      ],
      "execution_count": 41,
      "outputs": [
        {
          "output_type": "execute_result",
          "data": {
            "text/html": [
              "<div>\n",
              "<style scoped>\n",
              "    .dataframe tbody tr th:only-of-type {\n",
              "        vertical-align: middle;\n",
              "    }\n",
              "\n",
              "    .dataframe tbody tr th {\n",
              "        vertical-align: top;\n",
              "    }\n",
              "\n",
              "    .dataframe thead th {\n",
              "        text-align: right;\n",
              "    }\n",
              "</style>\n",
              "<table border=\"1\" class=\"dataframe\">\n",
              "  <thead>\n",
              "    <tr style=\"text-align: right;\">\n",
              "      <th></th>\n",
              "      <th>PassengerId</th>\n",
              "      <th>Survived</th>\n",
              "      <th>Pclass</th>\n",
              "      <th>Name</th>\n",
              "      <th>Sex</th>\n",
              "      <th>Age</th>\n",
              "      <th>SiblingsSpouses</th>\n",
              "      <th>ParentsChildren</th>\n",
              "      <th>Fare</th>\n",
              "      <th>Embarked</th>\n",
              "    </tr>\n",
              "  </thead>\n",
              "  <tbody>\n",
              "    <tr>\n",
              "      <th>0</th>\n",
              "      <td>1</td>\n",
              "      <td>0</td>\n",
              "      <td>3</td>\n",
              "      <td>Braund, Mr. Owen Harris</td>\n",
              "      <td>male</td>\n",
              "      <td>22.0</td>\n",
              "      <td>1</td>\n",
              "      <td>0</td>\n",
              "      <td>7.25</td>\n",
              "      <td>S</td>\n",
              "    </tr>\n",
              "  </tbody>\n",
              "</table>\n",
              "</div>"
            ],
            "text/plain": [
              "   PassengerId Survived Pclass                     Name   Sex   Age  \\\n",
              "0            1        0      3  Braund, Mr. Owen Harris  male  22.0   \n",
              "\n",
              "   SiblingsSpouses  ParentsChildren  Fare Embarked  \n",
              "0                1                0  7.25        S  "
            ]
          },
          "metadata": {
            "tags": []
          },
          "execution_count": 41
        }
      ]
    },
    {
      "metadata": {
        "id": "L4Xmd0oNH_mm",
        "colab_type": "code",
        "outputId": "ffa78c89-8104-41bf-c066-3eafd18ca41a",
        "colab": {
          "base_uri": "https://localhost:8080/",
          "height": 111
        }
      },
      "cell_type": "code",
      "source": [
        "# Those pesky two people with null embarked.\n",
        "tr[nulls[\"Embarked\"]]"
      ],
      "execution_count": 42,
      "outputs": [
        {
          "output_type": "execute_result",
          "data": {
            "text/html": [
              "<div>\n",
              "<style scoped>\n",
              "    .dataframe tbody tr th:only-of-type {\n",
              "        vertical-align: middle;\n",
              "    }\n",
              "\n",
              "    .dataframe tbody tr th {\n",
              "        vertical-align: top;\n",
              "    }\n",
              "\n",
              "    .dataframe thead th {\n",
              "        text-align: right;\n",
              "    }\n",
              "</style>\n",
              "<table border=\"1\" class=\"dataframe\">\n",
              "  <thead>\n",
              "    <tr style=\"text-align: right;\">\n",
              "      <th></th>\n",
              "      <th>PassengerId</th>\n",
              "      <th>Survived</th>\n",
              "      <th>Pclass</th>\n",
              "      <th>Name</th>\n",
              "      <th>Sex</th>\n",
              "      <th>Age</th>\n",
              "      <th>SiblingsSpouses</th>\n",
              "      <th>ParentsChildren</th>\n",
              "      <th>Fare</th>\n",
              "      <th>Embarked</th>\n",
              "    </tr>\n",
              "  </thead>\n",
              "  <tbody>\n",
              "    <tr>\n",
              "      <th>61</th>\n",
              "      <td>62</td>\n",
              "      <td>1</td>\n",
              "      <td>1</td>\n",
              "      <td>Icard, Miss. Amelie</td>\n",
              "      <td>female</td>\n",
              "      <td>38.0</td>\n",
              "      <td>0</td>\n",
              "      <td>0</td>\n",
              "      <td>80.0</td>\n",
              "      <td>NaN</td>\n",
              "    </tr>\n",
              "    <tr>\n",
              "      <th>829</th>\n",
              "      <td>830</td>\n",
              "      <td>1</td>\n",
              "      <td>1</td>\n",
              "      <td>Stone, Mrs. George Nelson (Martha Evelyn)</td>\n",
              "      <td>female</td>\n",
              "      <td>62.0</td>\n",
              "      <td>0</td>\n",
              "      <td>0</td>\n",
              "      <td>80.0</td>\n",
              "      <td>NaN</td>\n",
              "    </tr>\n",
              "  </tbody>\n",
              "</table>\n",
              "</div>"
            ],
            "text/plain": [
              "     PassengerId Survived Pclass                                       Name  \\\n",
              "61            62        1      1                        Icard, Miss. Amelie   \n",
              "829          830        1      1  Stone, Mrs. George Nelson (Martha Evelyn)   \n",
              "\n",
              "        Sex   Age  SiblingsSpouses  ParentsChildren  Fare Embarked  \n",
              "61   female  38.0                0                0  80.0      NaN  \n",
              "829  female  62.0                0                0  80.0      NaN  "
            ]
          },
          "metadata": {
            "tags": []
          },
          "execution_count": 42
        }
      ]
    },
    {
      "metadata": {
        "id": "ZyzvSJwgITK6",
        "colab_type": "code",
        "outputId": "ff19a9f1-9de7-4a27-ea75-e1f7856dfed0",
        "colab": {
          "base_uri": "https://localhost:8080/",
          "height": 142
        }
      },
      "cell_type": "code",
      "source": [
        "tr = tr.fillna(value = {\"Embarked\" : \"C\"})\n",
        "tr[60:63]"
      ],
      "execution_count": 43,
      "outputs": [
        {
          "output_type": "execute_result",
          "data": {
            "text/html": [
              "<div>\n",
              "<style scoped>\n",
              "    .dataframe tbody tr th:only-of-type {\n",
              "        vertical-align: middle;\n",
              "    }\n",
              "\n",
              "    .dataframe tbody tr th {\n",
              "        vertical-align: top;\n",
              "    }\n",
              "\n",
              "    .dataframe thead th {\n",
              "        text-align: right;\n",
              "    }\n",
              "</style>\n",
              "<table border=\"1\" class=\"dataframe\">\n",
              "  <thead>\n",
              "    <tr style=\"text-align: right;\">\n",
              "      <th></th>\n",
              "      <th>PassengerId</th>\n",
              "      <th>Survived</th>\n",
              "      <th>Pclass</th>\n",
              "      <th>Name</th>\n",
              "      <th>Sex</th>\n",
              "      <th>Age</th>\n",
              "      <th>SiblingsSpouses</th>\n",
              "      <th>ParentsChildren</th>\n",
              "      <th>Fare</th>\n",
              "      <th>Embarked</th>\n",
              "    </tr>\n",
              "  </thead>\n",
              "  <tbody>\n",
              "    <tr>\n",
              "      <th>60</th>\n",
              "      <td>61</td>\n",
              "      <td>0</td>\n",
              "      <td>3</td>\n",
              "      <td>Sirayanian, Mr. Orsen</td>\n",
              "      <td>male</td>\n",
              "      <td>22.0</td>\n",
              "      <td>0</td>\n",
              "      <td>0</td>\n",
              "      <td>7.2292</td>\n",
              "      <td>C</td>\n",
              "    </tr>\n",
              "    <tr>\n",
              "      <th>61</th>\n",
              "      <td>62</td>\n",
              "      <td>1</td>\n",
              "      <td>1</td>\n",
              "      <td>Icard, Miss. Amelie</td>\n",
              "      <td>female</td>\n",
              "      <td>38.0</td>\n",
              "      <td>0</td>\n",
              "      <td>0</td>\n",
              "      <td>80.0000</td>\n",
              "      <td>C</td>\n",
              "    </tr>\n",
              "    <tr>\n",
              "      <th>62</th>\n",
              "      <td>63</td>\n",
              "      <td>0</td>\n",
              "      <td>1</td>\n",
              "      <td>Harris, Mr. Henry Birkhardt</td>\n",
              "      <td>male</td>\n",
              "      <td>45.0</td>\n",
              "      <td>1</td>\n",
              "      <td>0</td>\n",
              "      <td>83.4750</td>\n",
              "      <td>S</td>\n",
              "    </tr>\n",
              "  </tbody>\n",
              "</table>\n",
              "</div>"
            ],
            "text/plain": [
              "    PassengerId Survived Pclass                         Name     Sex   Age  \\\n",
              "60           61        0      3        Sirayanian, Mr. Orsen    male  22.0   \n",
              "61           62        1      1          Icard, Miss. Amelie  female  38.0   \n",
              "62           63        0      1  Harris, Mr. Henry Birkhardt    male  45.0   \n",
              "\n",
              "    SiblingsSpouses  ParentsChildren     Fare Embarked  \n",
              "60                0                0   7.2292        C  \n",
              "61                0                0  80.0000        C  \n",
              "62                1                0  83.4750        S  "
            ]
          },
          "metadata": {
            "tags": []
          },
          "execution_count": 43
        }
      ]
    },
    {
      "metadata": {
        "id": "8BV3Yu6-KS22",
        "colab_type": "code",
        "outputId": "aa255cb2-c561-40aa-d827-c3ccd171d2d2",
        "colab": {
          "base_uri": "https://localhost:8080/",
          "height": 111
        }
      },
      "cell_type": "code",
      "source": [
        "tr[nulls[\"Embarked\"]]"
      ],
      "execution_count": 44,
      "outputs": [
        {
          "output_type": "execute_result",
          "data": {
            "text/html": [
              "<div>\n",
              "<style scoped>\n",
              "    .dataframe tbody tr th:only-of-type {\n",
              "        vertical-align: middle;\n",
              "    }\n",
              "\n",
              "    .dataframe tbody tr th {\n",
              "        vertical-align: top;\n",
              "    }\n",
              "\n",
              "    .dataframe thead th {\n",
              "        text-align: right;\n",
              "    }\n",
              "</style>\n",
              "<table border=\"1\" class=\"dataframe\">\n",
              "  <thead>\n",
              "    <tr style=\"text-align: right;\">\n",
              "      <th></th>\n",
              "      <th>PassengerId</th>\n",
              "      <th>Survived</th>\n",
              "      <th>Pclass</th>\n",
              "      <th>Name</th>\n",
              "      <th>Sex</th>\n",
              "      <th>Age</th>\n",
              "      <th>SiblingsSpouses</th>\n",
              "      <th>ParentsChildren</th>\n",
              "      <th>Fare</th>\n",
              "      <th>Embarked</th>\n",
              "    </tr>\n",
              "  </thead>\n",
              "  <tbody>\n",
              "    <tr>\n",
              "      <th>61</th>\n",
              "      <td>62</td>\n",
              "      <td>1</td>\n",
              "      <td>1</td>\n",
              "      <td>Icard, Miss. Amelie</td>\n",
              "      <td>female</td>\n",
              "      <td>38.0</td>\n",
              "      <td>0</td>\n",
              "      <td>0</td>\n",
              "      <td>80.0</td>\n",
              "      <td>C</td>\n",
              "    </tr>\n",
              "    <tr>\n",
              "      <th>829</th>\n",
              "      <td>830</td>\n",
              "      <td>1</td>\n",
              "      <td>1</td>\n",
              "      <td>Stone, Mrs. George Nelson (Martha Evelyn)</td>\n",
              "      <td>female</td>\n",
              "      <td>62.0</td>\n",
              "      <td>0</td>\n",
              "      <td>0</td>\n",
              "      <td>80.0</td>\n",
              "      <td>C</td>\n",
              "    </tr>\n",
              "  </tbody>\n",
              "</table>\n",
              "</div>"
            ],
            "text/plain": [
              "     PassengerId Survived Pclass                                       Name  \\\n",
              "61            62        1      1                        Icard, Miss. Amelie   \n",
              "829          830        1      1  Stone, Mrs. George Nelson (Martha Evelyn)   \n",
              "\n",
              "        Sex   Age  SiblingsSpouses  ParentsChildren  Fare Embarked  \n",
              "61   female  38.0                0                0  80.0        C  \n",
              "829  female  62.0                0                0  80.0        C  "
            ]
          },
          "metadata": {
            "tags": []
          },
          "execution_count": 44
        }
      ]
    },
    {
      "metadata": {
        "id": "IKnF2c4FKuAF",
        "colab_type": "code",
        "outputId": "5b0e837d-0077-43b9-cb9d-f6ac58bed908",
        "colab": {
          "base_uri": "https://localhost:8080/",
          "height": 204
        }
      },
      "cell_type": "code",
      "source": [
        "# One last null check...\n",
        "nullsPerCol = tr.isna().sum()\n",
        "nullsPerCol"
      ],
      "execution_count": 45,
      "outputs": [
        {
          "output_type": "execute_result",
          "data": {
            "text/plain": [
              "PassengerId        0\n",
              "Survived           0\n",
              "Pclass             0\n",
              "Name               0\n",
              "Sex                0\n",
              "Age                0\n",
              "SiblingsSpouses    0\n",
              "ParentsChildren    0\n",
              "Fare               0\n",
              "Embarked           0\n",
              "dtype: int64"
            ]
          },
          "metadata": {
            "tags": []
          },
          "execution_count": 45
        }
      ]
    },
    {
      "metadata": {
        "id": "DF_v4SXRR45Y",
        "colab_type": "text"
      },
      "cell_type": "markdown",
      "source": [
        "### Extra Info\n",
        "If you check the documentation, Pandas actually has a ton of ways to access data from a DataFrame. The index accessing is the most simple, but .loc or .iloc are both quite powerful as well. \n",
        "\n",
        ".iloc takes integers and .loc takes the Strings as we've seen, but more info is here:\n",
        "\n",
        "https://stackoverflow.com/questions/31593201/pandas-iloc-vs-ix-vs-loc-explanation-how-are-they-different"
      ]
    },
    {
      "metadata": {
        "id": "R2mVChsx60MV",
        "colab_type": "text"
      },
      "cell_type": "markdown",
      "source": [
        "## How Do We Use Our Data?"
      ]
    },
    {
      "metadata": {
        "id": "pfYRPxOTAZ1u",
        "colab_type": "text"
      },
      "cell_type": "markdown",
      "source": [
        "So we've seen how we can slice, fix up, and analyze our data a bit. We could certainly do a lot more, but at the end of the day, how do we determine which features are important in determining whether or not someone died on the Titanic?\n",
        "\n",
        "First, some intuitions on Information Theory: https://bit.ly/InformationTheoryLink\n",
        "\n",
        "And now some context on decision trees: https://bit.ly/DecisionTreeLink\n",
        "\n",
        "\n",
        "So we want to be able to calculate the entropy of a dataset resulting from a potential split, merely to demonstrate which splits are actually useful or not. This can be calculated by:\n",
        "\n",
        "$\\sum_{c=0}^{m}-p_{c}\\times\\log_2(p_{c}).$\n",
        "\n",
        "$m$ classes, $p_{c}$ is the proportion of each class present.\n",
        "\n",
        "Or in the case of just two classes (Survived or not):\n",
        "\n",
        "$E = -p\\log_2(p)-qlog_2(q).$\n",
        "\n",
        "$p$ is the proportion of one class, $q$ the other."
      ]
    },
    {
      "metadata": {
        "id": "pvZHZxQGLmo8",
        "colab_type": "code",
        "outputId": "5e5d03b1-4cef-4ccc-95ce-00f1bbe91e49",
        "colab": {
          "base_uri": "https://localhost:8080/",
          "height": 34
        }
      },
      "cell_type": "code",
      "source": [
        "# Because we finally fixed up the Embarked, we can categorize that:\n",
        "makeCategorical(\"Embarked\", tr)\n",
        "categories.append(\"Embarked\")\n",
        "categories"
      ],
      "execution_count": 46,
      "outputs": [
        {
          "output_type": "execute_result",
          "data": {
            "text/plain": [
              "['Survived', 'Pclass', 'Sex', 'Embarked']"
            ]
          },
          "metadata": {
            "tags": []
          },
          "execution_count": 46
        }
      ]
    },
    {
      "metadata": {
        "id": "vxoTEhCKi9i0",
        "colab_type": "code",
        "colab": {}
      },
      "cell_type": "code",
      "source": [
        "def split(feature, df):\n",
        "    \"\"\"\n",
        "    Splits a dataframe into sets based on the given categorical column.\n",
        "    Returns a list of DataFrames.\n",
        "    \n",
        "    Parameters\n",
        "    ----------\n",
        "    feature : String\n",
        "        The feature for dataframe to be split on.\n",
        "    df : pandas DataFrame\n",
        "        The dataframe to be split.\n",
        "    \"\"\"\n",
        "    groups = df[feature].cat.categories\n",
        "    categoryNum = len(groups)\n",
        "    output = [] # Will be a list of DataFrames.\n",
        "    for i in range(categoryNum): # For each of the categories of the feature given:\n",
        "        currentCategorySeries = df[feature] == groups[i]\n",
        "        output.append(df[currentCategorySeries]) # Append the df of the rows where the internal condition is true.\n",
        "    return output"
      ],
      "execution_count": 0,
      "outputs": []
    },
    {
      "metadata": {
        "id": "xnwam0rLjf7Z",
        "colab_type": "code",
        "colab": {}
      },
      "cell_type": "code",
      "source": [
        "def entropy(df):\n",
        "    \"\"\"\n",
        "    Calculates the \"Survived\" entropy for a given DataFrame.\n",
        "    \n",
        "    df : pandas DataFrame\n",
        "        The dataframe to be considered.\n",
        "    \"\"\"\n",
        "    totalObservations = float(len(df))\n",
        "    survivedSeries = df[\"Survived\"].value_counts()\n",
        "    # print(survivedSeries)\n",
        "    totalDied = float(survivedSeries[0]) # Gets row 0, or the count of those that died.\n",
        "    totalSurvived = float(survivedSeries[1]) # Gets row 1, or the count of those that survived.\n",
        "    p = totalDied / totalObservations\n",
        "    q = totalSurvived / totalObservations\n",
        "    if (p == 0 or q == 0): # Avoid /0 or log(0).\n",
        "        return 0.\n",
        "    return float((-p * np.log2(p)) - (q * np.log2(q)))"
      ],
      "execution_count": 0,
      "outputs": []
    },
    {
      "metadata": {
        "id": "iYGMZu_1o8Br",
        "colab_type": "code",
        "colab": {}
      },
      "cell_type": "code",
      "source": [
        "def entropyList(dfList):\n",
        "    \"\"\"\n",
        "    Calculates the 'Survived' entropy for a given list of DataFrames.\n",
        "    \n",
        "    dfList : list of pandas DataFrames\n",
        "        The dataframes to be considered.\n",
        "    \"\"\"\n",
        "    totalLength = 0.\n",
        "    for df in dfList: # Sum up total length of the DataFrames.\n",
        "        totalLength = float(totalLength + len(df))\n",
        "    \n",
        "    summedEntropy = 0.\n",
        "    \n",
        "    for df in dfList:\n",
        "        e = entropy(df)\n",
        "        weight = float(len(df)) / totalLength # We weight each entropy by proportion.\n",
        "        weightedEntropy = float(e * weight)\n",
        "        summedEntropy = float(summedEntropy + weightedEntropy)\n",
        "        \n",
        "    return summedEntropy"
      ],
      "execution_count": 0,
      "outputs": []
    },
    {
      "metadata": {
        "id": "rXK1Kb_eko3R",
        "colab_type": "code",
        "outputId": "c7a4e9a5-54a4-4a04-e16f-4040072afb4e",
        "colab": {
          "base_uri": "https://localhost:8080/",
          "height": 34
        }
      },
      "cell_type": "code",
      "source": [
        "# As it stands, our dataset is close to half-half survived or not examples, hence a high entropy.\n",
        "entropy(tr)"
      ],
      "execution_count": 50,
      "outputs": [
        {
          "output_type": "execute_result",
          "data": {
            "text/plain": [
              "0.9607079018756469"
            ]
          },
          "metadata": {
            "tags": []
          },
          "execution_count": 50
        }
      ]
    },
    {
      "metadata": {
        "id": "4MvRJtwbBAUu",
        "colab_type": "text"
      },
      "cell_type": "markdown",
      "source": [
        "### Credits for Feature Insights\n",
        "\n",
        "Many of the ideas for the features I'm going to create here come from this great source:\n",
        "https://www.kaggle.com/startupsci/titanic-data-science-solutions"
      ]
    },
    {
      "metadata": {
        "id": "04Xcm4tX9l8M",
        "colab_type": "code",
        "outputId": "7baca763-e0e6-4329-e48c-ff3eb6a634ca",
        "colab": {
          "base_uri": "https://localhost:8080/",
          "height": 142
        }
      },
      "cell_type": "code",
      "source": [
        "tr[\"isAlone\"] = 0 # Adds a new column and sets its values to 0.\n",
        "tr.head(3)"
      ],
      "execution_count": 51,
      "outputs": [
        {
          "output_type": "execute_result",
          "data": {
            "text/html": [
              "<div>\n",
              "<style scoped>\n",
              "    .dataframe tbody tr th:only-of-type {\n",
              "        vertical-align: middle;\n",
              "    }\n",
              "\n",
              "    .dataframe tbody tr th {\n",
              "        vertical-align: top;\n",
              "    }\n",
              "\n",
              "    .dataframe thead th {\n",
              "        text-align: right;\n",
              "    }\n",
              "</style>\n",
              "<table border=\"1\" class=\"dataframe\">\n",
              "  <thead>\n",
              "    <tr style=\"text-align: right;\">\n",
              "      <th></th>\n",
              "      <th>PassengerId</th>\n",
              "      <th>Survived</th>\n",
              "      <th>Pclass</th>\n",
              "      <th>Name</th>\n",
              "      <th>Sex</th>\n",
              "      <th>Age</th>\n",
              "      <th>SiblingsSpouses</th>\n",
              "      <th>ParentsChildren</th>\n",
              "      <th>Fare</th>\n",
              "      <th>Embarked</th>\n",
              "      <th>isAlone</th>\n",
              "    </tr>\n",
              "  </thead>\n",
              "  <tbody>\n",
              "    <tr>\n",
              "      <th>0</th>\n",
              "      <td>1</td>\n",
              "      <td>0</td>\n",
              "      <td>3</td>\n",
              "      <td>Braund, Mr. Owen Harris</td>\n",
              "      <td>male</td>\n",
              "      <td>22.0</td>\n",
              "      <td>1</td>\n",
              "      <td>0</td>\n",
              "      <td>7.2500</td>\n",
              "      <td>S</td>\n",
              "      <td>0</td>\n",
              "    </tr>\n",
              "    <tr>\n",
              "      <th>1</th>\n",
              "      <td>2</td>\n",
              "      <td>1</td>\n",
              "      <td>1</td>\n",
              "      <td>Cumings, Mrs. John Bradley (Florence Briggs Th...</td>\n",
              "      <td>female</td>\n",
              "      <td>38.0</td>\n",
              "      <td>1</td>\n",
              "      <td>0</td>\n",
              "      <td>71.2833</td>\n",
              "      <td>C</td>\n",
              "      <td>0</td>\n",
              "    </tr>\n",
              "    <tr>\n",
              "      <th>2</th>\n",
              "      <td>3</td>\n",
              "      <td>1</td>\n",
              "      <td>3</td>\n",
              "      <td>Heikkinen, Miss. Laina</td>\n",
              "      <td>female</td>\n",
              "      <td>26.0</td>\n",
              "      <td>0</td>\n",
              "      <td>0</td>\n",
              "      <td>7.9250</td>\n",
              "      <td>S</td>\n",
              "      <td>0</td>\n",
              "    </tr>\n",
              "  </tbody>\n",
              "</table>\n",
              "</div>"
            ],
            "text/plain": [
              "   PassengerId Survived Pclass  \\\n",
              "0            1        0      3   \n",
              "1            2        1      1   \n",
              "2            3        1      3   \n",
              "\n",
              "                                                Name     Sex   Age  \\\n",
              "0                            Braund, Mr. Owen Harris    male  22.0   \n",
              "1  Cumings, Mrs. John Bradley (Florence Briggs Th...  female  38.0   \n",
              "2                             Heikkinen, Miss. Laina  female  26.0   \n",
              "\n",
              "   SiblingsSpouses  ParentsChildren     Fare Embarked  isAlone  \n",
              "0                1                0   7.2500        S        0  \n",
              "1                1                0  71.2833        C        0  \n",
              "2                0                0   7.9250        S        0  "
            ]
          },
          "metadata": {
            "tags": []
          },
          "execution_count": 51
        }
      ]
    },
    {
      "metadata": {
        "id": "feWawZfD-Fua",
        "colab_type": "code",
        "outputId": "c48ad5ac-99fb-4851-dde7-cc72533e04b1",
        "colab": {
          "base_uri": "https://localhost:8080/",
          "height": 204
        }
      },
      "cell_type": "code",
      "source": [
        "# Create Series indicating each person's family size.\n",
        "familySizes = tr[\"ParentsChildren\"] + tr[\"SiblingsSpouses\"] + 1\n",
        "familySizes.tail(10)"
      ],
      "execution_count": 52,
      "outputs": [
        {
          "output_type": "execute_result",
          "data": {
            "text/plain": [
              "881    1\n",
              "882    1\n",
              "883    1\n",
              "884    1\n",
              "885    6\n",
              "886    1\n",
              "887    1\n",
              "888    4\n",
              "889    1\n",
              "890    1\n",
              "dtype: int64"
            ]
          },
          "metadata": {
            "tags": []
          },
          "execution_count": 52
        }
      ]
    },
    {
      "metadata": {
        "id": "NlfbeWnEBiAQ",
        "colab_type": "code",
        "outputId": "268c4446-f098-45e5-9748-a014b94ae0b6",
        "colab": {
          "base_uri": "https://localhost:8080/",
          "height": 204
        }
      },
      "cell_type": "code",
      "source": [
        "# Sets a new column, isAlone, to booleans indicating if the person is alone or not.\n",
        "tr[\"isAlone\"] = familySizes == 1 # Family size of 1 must be alone.\n",
        "tr.head(5)"
      ],
      "execution_count": 53,
      "outputs": [
        {
          "output_type": "execute_result",
          "data": {
            "text/html": [
              "<div>\n",
              "<style scoped>\n",
              "    .dataframe tbody tr th:only-of-type {\n",
              "        vertical-align: middle;\n",
              "    }\n",
              "\n",
              "    .dataframe tbody tr th {\n",
              "        vertical-align: top;\n",
              "    }\n",
              "\n",
              "    .dataframe thead th {\n",
              "        text-align: right;\n",
              "    }\n",
              "</style>\n",
              "<table border=\"1\" class=\"dataframe\">\n",
              "  <thead>\n",
              "    <tr style=\"text-align: right;\">\n",
              "      <th></th>\n",
              "      <th>PassengerId</th>\n",
              "      <th>Survived</th>\n",
              "      <th>Pclass</th>\n",
              "      <th>Name</th>\n",
              "      <th>Sex</th>\n",
              "      <th>Age</th>\n",
              "      <th>SiblingsSpouses</th>\n",
              "      <th>ParentsChildren</th>\n",
              "      <th>Fare</th>\n",
              "      <th>Embarked</th>\n",
              "      <th>isAlone</th>\n",
              "    </tr>\n",
              "  </thead>\n",
              "  <tbody>\n",
              "    <tr>\n",
              "      <th>0</th>\n",
              "      <td>1</td>\n",
              "      <td>0</td>\n",
              "      <td>3</td>\n",
              "      <td>Braund, Mr. Owen Harris</td>\n",
              "      <td>male</td>\n",
              "      <td>22.0</td>\n",
              "      <td>1</td>\n",
              "      <td>0</td>\n",
              "      <td>7.2500</td>\n",
              "      <td>S</td>\n",
              "      <td>False</td>\n",
              "    </tr>\n",
              "    <tr>\n",
              "      <th>1</th>\n",
              "      <td>2</td>\n",
              "      <td>1</td>\n",
              "      <td>1</td>\n",
              "      <td>Cumings, Mrs. John Bradley (Florence Briggs Th...</td>\n",
              "      <td>female</td>\n",
              "      <td>38.0</td>\n",
              "      <td>1</td>\n",
              "      <td>0</td>\n",
              "      <td>71.2833</td>\n",
              "      <td>C</td>\n",
              "      <td>False</td>\n",
              "    </tr>\n",
              "    <tr>\n",
              "      <th>2</th>\n",
              "      <td>3</td>\n",
              "      <td>1</td>\n",
              "      <td>3</td>\n",
              "      <td>Heikkinen, Miss. Laina</td>\n",
              "      <td>female</td>\n",
              "      <td>26.0</td>\n",
              "      <td>0</td>\n",
              "      <td>0</td>\n",
              "      <td>7.9250</td>\n",
              "      <td>S</td>\n",
              "      <td>True</td>\n",
              "    </tr>\n",
              "    <tr>\n",
              "      <th>3</th>\n",
              "      <td>4</td>\n",
              "      <td>1</td>\n",
              "      <td>1</td>\n",
              "      <td>Futrelle, Mrs. Jacques Heath (Lily May Peel)</td>\n",
              "      <td>female</td>\n",
              "      <td>35.0</td>\n",
              "      <td>1</td>\n",
              "      <td>0</td>\n",
              "      <td>53.1000</td>\n",
              "      <td>S</td>\n",
              "      <td>False</td>\n",
              "    </tr>\n",
              "    <tr>\n",
              "      <th>4</th>\n",
              "      <td>5</td>\n",
              "      <td>0</td>\n",
              "      <td>3</td>\n",
              "      <td>Allen, Mr. William Henry</td>\n",
              "      <td>male</td>\n",
              "      <td>35.0</td>\n",
              "      <td>0</td>\n",
              "      <td>0</td>\n",
              "      <td>8.0500</td>\n",
              "      <td>S</td>\n",
              "      <td>True</td>\n",
              "    </tr>\n",
              "  </tbody>\n",
              "</table>\n",
              "</div>"
            ],
            "text/plain": [
              "   PassengerId Survived Pclass  \\\n",
              "0            1        0      3   \n",
              "1            2        1      1   \n",
              "2            3        1      3   \n",
              "3            4        1      1   \n",
              "4            5        0      3   \n",
              "\n",
              "                                                Name     Sex   Age  \\\n",
              "0                            Braund, Mr. Owen Harris    male  22.0   \n",
              "1  Cumings, Mrs. John Bradley (Florence Briggs Th...  female  38.0   \n",
              "2                             Heikkinen, Miss. Laina  female  26.0   \n",
              "3       Futrelle, Mrs. Jacques Heath (Lily May Peel)  female  35.0   \n",
              "4                           Allen, Mr. William Henry    male  35.0   \n",
              "\n",
              "   SiblingsSpouses  ParentsChildren     Fare Embarked  isAlone  \n",
              "0                1                0   7.2500        S    False  \n",
              "1                1                0  71.2833        C    False  \n",
              "2                0                0   7.9250        S     True  \n",
              "3                1                0  53.1000        S    False  \n",
              "4                0                0   8.0500        S     True  "
            ]
          },
          "metadata": {
            "tags": []
          },
          "execution_count": 53
        }
      ]
    },
    {
      "metadata": {
        "id": "2L5BnlU1B1dG",
        "colab_type": "code",
        "outputId": "94783f7b-859b-4a7e-88a7-fece8b64b9b6",
        "colab": {
          "base_uri": "https://localhost:8080/",
          "height": 34
        }
      },
      "cell_type": "code",
      "source": [
        "makeCategorical(\"isAlone\", tr)\n",
        "categories.append(\"isAlone\")\n",
        "categories"
      ],
      "execution_count": 54,
      "outputs": [
        {
          "output_type": "execute_result",
          "data": {
            "text/plain": [
              "['Survived', 'Pclass', 'Sex', 'Embarked', 'isAlone']"
            ]
          },
          "metadata": {
            "tags": []
          },
          "execution_count": 54
        }
      ]
    },
    {
      "metadata": {
        "id": "nHJuOVutoLEe",
        "colab_type": "code",
        "outputId": "b004e7cc-e5a6-4657-8b05-478731d13074",
        "colab": {
          "base_uri": "https://localhost:8080/",
          "height": 34
        }
      },
      "cell_type": "code",
      "source": [
        "# Creates two DataFrames which are split along the \"Sex\" feature using the method made above. Getting 2 DataFrames makes sense.\n",
        "sexSplit = split(\"Sex\", tr)\n",
        "len(sexSplit)"
      ],
      "execution_count": 55,
      "outputs": [
        {
          "output_type": "execute_result",
          "data": {
            "text/plain": [
              "2"
            ]
          },
          "metadata": {
            "tags": []
          },
          "execution_count": 55
        }
      ]
    },
    {
      "metadata": {
        "id": "67QO3eRSo29W",
        "colab_type": "code",
        "outputId": "3abd2c2e-00fc-40ec-e654-d712d56a6eed",
        "colab": {
          "base_uri": "https://localhost:8080/",
          "height": 34
        }
      },
      "cell_type": "code",
      "source": [
        "entropyList(sexSplit)"
      ],
      "execution_count": 56,
      "outputs": [
        {
          "output_type": "execute_result",
          "data": {
            "text/plain": [
              "0.7430477952150327"
            ]
          },
          "metadata": {
            "tags": []
          },
          "execution_count": 56
        }
      ]
    },
    {
      "metadata": {
        "id": "nF6x86-uqXOF",
        "colab_type": "code",
        "colab": {}
      },
      "cell_type": "code",
      "source": [
        "def informationGain(col, df):\n",
        "    \"\"\"\n",
        "    Finds the potential information gain based on splitting the given DataFrame\n",
        "    on the specified categorical column.\n",
        "    \n",
        "    col : String\n",
        "        Which feature to find the information gain for.\n",
        "    df : pandas DataFrame\n",
        "        The DataFrame to process.\n",
        "    \"\"\"\n",
        "    startingEntropy = entropy(df)\n",
        "    splitList = split(col, df)\n",
        "    endingEntropy = entropyList(splitList)\n",
        "    gain = float(startingEntropy - endingEntropy) # The gain is the decrease in entropy.\n",
        "    return gain"
      ],
      "execution_count": 0,
      "outputs": []
    },
    {
      "metadata": {
        "id": "ax7HFbGarylt",
        "colab_type": "code",
        "outputId": "a491a742-8e48-40bc-8541-315cde573fc1",
        "colab": {
          "base_uri": "https://localhost:8080/",
          "height": 34
        }
      },
      "cell_type": "code",
      "source": [
        "# Basically, if we split by the literal answer, we'll improve the entropy from where it is to 0. Makes sense.\n",
        "informationGain(\"Survived\", tr)"
      ],
      "execution_count": 58,
      "outputs": [
        {
          "output_type": "execute_result",
          "data": {
            "text/plain": [
              "0.9607079018756469"
            ]
          },
          "metadata": {
            "tags": []
          },
          "execution_count": 58
        }
      ]
    },
    {
      "metadata": {
        "id": "N5ppGDGPrYiI",
        "colab_type": "code",
        "outputId": "d6563857-a293-40d5-c167-59c5c69bd0a6",
        "colab": {
          "base_uri": "https://localhost:8080/",
          "height": 102
        }
      },
      "cell_type": "code",
      "source": [
        "for c in categories:\n",
        "    print(c, informationGain(c, tr))"
      ],
      "execution_count": 59,
      "outputs": [
        {
          "output_type": "stream",
          "text": [
            "Survived 0.9607079018756469\n",
            "Pclass 0.0838310452960116\n",
            "Sex 0.2176601066606142\n",
            "Embarked 0.022147406355340515\n",
            "isAlone 0.029708896074360225\n"
          ],
          "name": "stdout"
        }
      ]
    },
    {
      "metadata": {
        "id": "RGdO9SbYseBl",
        "colab_type": "text"
      },
      "cell_type": "markdown",
      "source": [
        "### Concept Check: Information Gain\n",
        "Hopefully it' makes some sense why we cared about the \"Sex\" feature when processing our ages.\n",
        "\n",
        "Note: As you can see, Embarked is a practically useless feature. I therefore stand by the unscientific treatment we used to fix its null values."
      ]
    },
    {
      "metadata": {
        "id": "BF2xfJLcoFT2",
        "colab_type": "code",
        "colab": {}
      },
      "cell_type": "code",
      "source": [
        "class DecisionTree:\n",
        "    \"\"\"\n",
        "    A decision tree splits a dataset into subsets of data, working to create pure subsets. Later, by following the determined path through the chosen\n",
        "    splits, the tree can classify new observations. Other optimization methods such as ensembling many of these trees together can improve on this idea.\n",
        "    \"\"\"\n",
        "    \n",
        "    # Homework..."
      ],
      "execution_count": 0,
      "outputs": []
    },
    {
      "metadata": {
        "id": "PCpgfEwa2FGU",
        "colab_type": "text"
      },
      "cell_type": "markdown",
      "source": [
        "# Questions?"
      ]
    }
  ]
}